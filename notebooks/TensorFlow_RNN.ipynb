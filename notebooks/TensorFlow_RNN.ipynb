{
 "cells": [
  {
   "cell_type": "markdown",
   "metadata": {},
   "source": [
    "# Recurrent Neural Networks"
   ]
  },
  {
   "cell_type": "markdown",
   "metadata": {},
   "source": [
    "Recurrent layer output for one sample:\n",
    "\n",
    "$\\mathbf{y}_{(t)}=\\phi({\\mathbf{W}_x}^T\\cdot\\mathbf{x}_{(t)}+{\\mathbf{W}_y}^T\\cdot\\mathbf{y}_{(t-1)}+\\mathbf{b})$"
   ]
  },
  {
   "cell_type": "markdown",
   "metadata": {},
   "source": [
    "And for all samples:\n",
    "\n",
    "$\\begin{split}\n",
    "\\mathbf{Y}_{(t)}&=\\phi(\\mathbf{X}_{(t)}\\cdot\\mathbf{W}_{x}+\\mathbf{Y}_{(t-1)}\\cdot\\mathbf{W}_{y}+\\mathbf{b})\\\\\n",
    "&=\\phi(\\left[\\mathbf{X}_{(t)}\\phantom{X}\\mathbf{Y}_{(t-1)}\\right]\\cdot\\mathbf{W}+\\mathbf{b})\n",
    "\\end{split}$\n",
    "\n",
    "\n",
    "with $\\mathbf{W}=\\left[\\begin{array}{c}\n",
    "\\mathbf{W}_x\\\\\n",
    "\\mathbf{W}_y\n",
    "\\end{array}\\right]$\n",
    "\n",
    "- $\\mathbf{Y}_{(t)}$ - matrix $m \\times n_{\\text{neurons}}$\n",
    "- $\\mathbf{X}_{(t)}$ - matrix $m \\times n_{\\text{inputs}}$\n",
    "- $\\mathbf{W}_x$ - matrix $n_{\\text{inputs}} \\times n_{\\text{neurons}}$\n",
    "- $\\mathbf{W}_y$ - matrix $n_{\\text{neurons}} \\times n_{\\text{neurons}}$\n",
    "- $\\mathbf{b}$ - vector of size $n_{\\text{neurons}}$"
   ]
  },
  {
   "cell_type": "markdown",
   "metadata": {},
   "source": [
    "## Basic RNN with TensorFlow"
   ]
  },
  {
   "cell_type": "code",
   "execution_count": 10,
   "metadata": {},
   "outputs": [],
   "source": [
    "def reset_graph():\n",
    "    tf.reset_default_graph()"
   ]
  },
  {
   "cell_type": "code",
   "execution_count": 1,
   "metadata": {},
   "outputs": [
    {
     "name": "stderr",
     "output_type": "stream",
     "text": [
      "G:\\Anaconda3\\lib\\site-packages\\h5py\\__init__.py:36: FutureWarning: Conversion of the second argument of issubdtype from `float` to `np.floating` is deprecated. In future, it will be treated as `np.float64 == np.dtype(float).type`.\n",
      "  from ._conv import register_converters as _register_converters\n"
     ]
    }
   ],
   "source": [
    "import tensorflow as tf"
   ]
  },
  {
   "cell_type": "code",
   "execution_count": 20,
   "metadata": {},
   "outputs": [],
   "source": [
    "reset_graph()\n",
    "\n",
    "n_inputs = 3\n",
    "n_neurons = 5\n",
    "\n",
    "X0 = tf.placeholder(tf.float32, (None, n_inputs))\n",
    "X1 = tf.placeholder(tf.float32, (None, n_inputs))\n",
    "\n",
    "Wx = tf.Variable(tf.random_normal(shape=(n_inputs, n_neurons)), dtype=tf.float32)\n",
    "Wy = tf.Variable(tf.random_normal(shape=(n_neurons, n_neurons)), dtype=tf.float32)\n",
    "b = tf.Variable(tf.zeros((1, n_neurons)), dtype=tf.float32)\n",
    "\n",
    "Y0 = tf.tanh(tf.matmul(X0, Wx) + b)\n",
    "Y1 = tf.tanh(tf.matmul(Y0, Wy) + tf.matmul(X1, Wx) + b)\n",
    "\n",
    "init = tf.global_variables_initializer()"
   ]
  },
  {
   "cell_type": "code",
   "execution_count": 21,
   "metadata": {},
   "outputs": [],
   "source": [
    "import numpy as np\n",
    "                    # sample 0  sample 1   sample 2   sample 3\n",
    "X0_batch = np.array([[0, 1, 2], [3, 4, 5], [6, 7, 8], [9, 0, 1]])  # t=0\n",
    "X1_batch = np.array([[9, 8, 7], [0, 0, 0], [6, 5, 4], [3, 2, 1]])  # t=1\n",
    "\n",
    "with tf.Session() as sess:\n",
    "    init.run()\n",
    "    Y0_val, Y1_val = sess.run([Y0, Y1], feed_dict={X0: X0_batch, X1: X1_batch})"
   ]
  },
  {
   "cell_type": "code",
   "execution_count": 24,
   "metadata": {},
   "outputs": [
    {
     "name": "stdout",
     "output_type": "stream",
     "text": [
      "[[ 0.9998845   0.9985211   0.9807717   0.42409754  0.12938699]\n",
      " [ 1.          1.          1.         -0.4425541   0.71254337]\n",
      " [ 1.          1.          1.         -0.88610226  0.9294788 ]\n",
      " [ 0.8929707  -0.2217794   0.9999999  -0.9999985   0.86951333]]\n"
     ]
    }
   ],
   "source": [
    "print(Y0_val)"
   ]
  },
  {
   "cell_type": "code",
   "execution_count": 23,
   "metadata": {},
   "outputs": [
    {
     "name": "stdout",
     "output_type": "stream",
     "text": [
      "[[ 1.          1.          1.         -0.98594075  0.7372455 ]\n",
      " [-0.96119756  0.82696277  0.98419595 -0.7695875  -0.92860484]\n",
      " [ 1.          1.          1.         -0.999511   -0.47752377]\n",
      " [ 0.9999276   0.9990764   0.99999905 -0.99869365 -0.98094934]]\n"
     ]
    }
   ],
   "source": [
    "print(Y1_val)"
   ]
  },
  {
   "cell_type": "markdown",
   "metadata": {},
   "source": [
    "## ``static_rnn()``"
   ]
  },
  {
   "cell_type": "code",
   "execution_count": 27,
   "metadata": {},
   "outputs": [],
   "source": [
    "reset_graph()\n",
    "\n",
    "X0 = tf.placeholder(tf.float32, (None, n_inputs))\n",
    "X1 = tf.placeholder(tf.float32, (None, n_inputs))\n",
    "\n",
    "basic_cell = tf.keras.layers.SimpleRNNCell(units=n_neurons)\n",
    "output_seqs, states = tf.contrib.rnn.static_rnn(basic_cell, [X0, X1], dtype=tf.float32)\n",
    "Y0, Y1 = output_seqs\n",
    "\n",
    "init = tf.global_variables_initializer()"
   ]
  },
  {
   "cell_type": "code",
   "execution_count": 28,
   "metadata": {},
   "outputs": [],
   "source": [
    "with tf.Session() as sess:\n",
    "    init.run()\n",
    "    Y0_val, Y1_val = sess.run([Y0, Y1], feed_dict={X0: X0_batch, X1: X1_batch})"
   ]
  },
  {
   "cell_type": "code",
   "execution_count": 29,
   "metadata": {},
   "outputs": [
    {
     "name": "stdout",
     "output_type": "stream",
     "text": [
      "[[ 0.7775582  -0.9588775   0.583342   -0.8656785   0.06241423]\n",
      " [ 0.9999786  -0.9997971   0.9766191  -0.99851596  0.85624963]\n",
      " [ 1.         -0.999999    0.99893725 -0.9999847   0.9865007 ]\n",
      " [ 0.99998623  0.9961089   0.9988884   0.89188784 -0.7275337 ]]\n"
     ]
    }
   ],
   "source": [
    "print(Y0_val)"
   ]
  },
  {
   "cell_type": "code",
   "execution_count": 30,
   "metadata": {},
   "outputs": [
    {
     "name": "stdout",
     "output_type": "stream",
     "text": [
      "[[ 1.         -0.99998355  0.9984809  -0.99999183  0.97817904]\n",
      " [-0.6203504  -0.33362556  0.00255545 -0.5979532  -0.95510876]\n",
      " [ 0.9999995  -0.9990898   0.9862038  -0.99920183  0.40492308]\n",
      " [ 0.9997139  -0.18447568  0.9781278  -0.97400355  0.9001233 ]]\n"
     ]
    }
   ],
   "source": [
    "print(Y1_val)"
   ]
  },
  {
   "cell_type": "markdown",
   "metadata": {},
   "source": [
    "Or the much better way to define X:"
   ]
  },
  {
   "cell_type": "code",
   "execution_count": 36,
   "metadata": {},
   "outputs": [],
   "source": [
    "reset_graph()\n",
    "\n",
    "n_steps = 2\n",
    "\n",
    "X = tf.placeholder(tf.float32, [None, n_steps, n_inputs])\n",
    "X_seqs = tf.unstack(tf.transpose(X, perm=[1, 0, 2]))\n",
    "basic_cell = tf.keras.layers.SimpleRNNCell(units=n_neurons)\n",
    "output_seqs, states = tf.contrib.rnn.static_rnn(basic_cell, X_seqs, dtype=tf.float32)\n",
    "outputs = tf.transpose(tf.stack(output_seqs), perm=[1, 0, 2])\n",
    "\n",
    "init = tf.global_variables_initializer()"
   ]
  },
  {
   "cell_type": "code",
   "execution_count": 37,
   "metadata": {},
   "outputs": [],
   "source": [
    "X_batch = np.array([\n",
    "      # t = 0      t = 1\n",
    "    [[0, 1, 2], [9, 8, 7]],  # sample 0\n",
    "    [[3, 4, 5], [0, 0, 0]],  # sample 1\n",
    "    [[6, 7, 8], [6, 5, 4]],  # sample 2\n",
    "    [[9, 0, 1], [3, 2, 1]]   # sample 3\n",
    "])\n",
    "\n",
    "with tf.Session() as sess:\n",
    "    init.run()\n",
    "    outputs_val = outputs.eval(feed_dict={X: X_batch})"
   ]
  },
  {
   "cell_type": "code",
   "execution_count": 38,
   "metadata": {},
   "outputs": [
    {
     "name": "stdout",
     "output_type": "stream",
     "text": [
      "[[[ 0.78644925  0.23237634  0.7817101  -0.5340793   0.88090867]\n",
      "  [ 0.85650396  0.99997795  0.99998057  0.99992603  0.9999137 ]]\n",
      "\n",
      " [[ 0.9377855   0.9444776   0.99797213  0.6387327   0.9977533 ]\n",
      "  [-0.08335785  0.90263355  0.24798323  0.8638597  -0.39955902]]\n",
      "\n",
      " [[ 0.9829014   0.99738544  0.99998325  0.9709079   0.99996   ]\n",
      "  [ 0.1397619   0.9996409   0.99957067  0.9998518   0.9657296 ]]\n",
      "\n",
      " [[-0.998372    0.9979464  -0.69987684  0.99930674 -0.9833075 ]\n",
      "  [-0.95189613  0.04853842  0.935623    0.97434515 -0.13885137]]]\n"
     ]
    }
   ],
   "source": [
    "print(outputs_val)"
   ]
  },
  {
   "cell_type": "markdown",
   "metadata": {},
   "source": [
    "## ``dynamic_rnn()``"
   ]
  },
  {
   "cell_type": "code",
   "execution_count": 39,
   "metadata": {},
   "outputs": [],
   "source": [
    "reset_graph()\n",
    "\n",
    "X = tf.placeholder(tf.float32, (None, n_steps, n_inputs))\n",
    "basic_cell = tf.keras.layers.SimpleRNNCell(units=n_neurons)\n",
    "outputs, states = tf.nn.dynamic_rnn(basic_cell, X, dtype=tf.float32)\n",
    "\n",
    "init = tf.global_variables_initializer()"
   ]
  },
  {
   "cell_type": "code",
   "execution_count": 41,
   "metadata": {},
   "outputs": [],
   "source": [
    "with tf.Session() as sess:\n",
    "    init.run()\n",
    "    outputs_val = outputs.eval(feed_dict={X: X_batch})"
   ]
  },
  {
   "cell_type": "code",
   "execution_count": 42,
   "metadata": {},
   "outputs": [
    {
     "name": "stdout",
     "output_type": "stream",
     "text": [
      "[[[-0.03482872 -0.2341569  -0.3819376  -0.5550543   0.95308256]\n",
      "  [-0.6414222   0.98714066  0.99987876 -1.          1.        ]]\n",
      "\n",
      " [[-0.4705129   0.6107307   0.6675099  -0.9990505   0.999997  ]\n",
      "  [ 0.25642464 -0.48041275  0.556726   -0.8514268   0.68712175]]\n",
      "\n",
      " [[-0.75591516  0.9300493   0.9650586  -0.9999984   1.        ]\n",
      "  [-0.6992848   0.9307176   0.9977707  -0.9999994   0.99999994]]\n",
      "\n",
      " [[ 0.650494    0.99166745  0.9998903  -0.9981866   0.9995775 ]\n",
      "  [ 0.38949347  0.890519    0.95712805 -0.9987376   0.9997413 ]]]\n"
     ]
    }
   ],
   "source": [
    "print(outputs_val)"
   ]
  },
  {
   "cell_type": "markdown",
   "metadata": {},
   "source": [
    "### Input sequences with different length"
   ]
  },
  {
   "cell_type": "code",
   "execution_count": 44,
   "metadata": {},
   "outputs": [],
   "source": [
    "reset_graph()\n",
    "\n",
    "seq_length = tf.placeholder(tf.int32, (None))\n",
    "\n",
    "X = tf.placeholder(tf.float32, (None, n_steps, n_inputs))\n",
    "basic_cell = tf.keras.layers.SimpleRNNCell(units=n_neurons)\n",
    "outputs, states = tf.nn.dynamic_rnn(basic_cell, X, dtype=tf.float32, sequence_length=seq_length)\n",
    "\n",
    "init = tf.global_variables_initializer()"
   ]
  },
  {
   "cell_type": "code",
   "execution_count": 48,
   "metadata": {},
   "outputs": [],
   "source": [
    "X_batch = np.array([\n",
    "      # t = 0      t = 1\n",
    "    [[0, 1, 2], [9, 8, 7]],  # sample 0\n",
    "    [[3, 4, 5], [0, 0, 0]],  # sample 1 with vector of zeroes (it means on the t = 1 there is no input)\n",
    "    [[6, 7, 8], [6, 5, 4]],  # sample 2\n",
    "    [[9, 0, 1], [3, 2, 1]]   # sample 3\n",
    "])\n",
    "\n",
    "seq_length_batch = np.array([2, 1, 2, 2])\n",
    "\n",
    "with tf.Session() as sess:\n",
    "    init.run()\n",
    "    outputs_val, states_val = sess.run([outputs, states], feed_dict={X: X_batch, seq_length: seq_length_batch})"
   ]
  },
  {
   "cell_type": "code",
   "execution_count": 49,
   "metadata": {},
   "outputs": [
    {
     "name": "stdout",
     "output_type": "stream",
     "text": [
      "[[[-0.07281392 -0.810872   -0.07239084 -0.8578082   0.7530198 ]\n",
      "  [-0.833189   -0.9931133   0.99999964  0.9987863   0.99905145]]\n",
      "\n",
      " [[-0.39503723 -0.9891931   0.97979647 -0.6916948   0.99109   ]\n",
      "  [ 0.          0.          0.          0.          0.        ]]\n",
      "\n",
      " [[-0.6425862  -0.9994348   0.9998199  -0.39474493  0.9997158 ]\n",
      "  [-0.23475975 -0.9548405   0.99985254  0.9993263   0.98874575]]\n",
      "\n",
      " [[-0.17676206  0.9956495   0.99999535  0.9999986   0.9998489 ]\n",
      "  [ 0.03924279 -0.05626582  0.63885915  0.9605177   0.93835074]]]\n"
     ]
    }
   ],
   "source": [
    "print(outputs_val)"
   ]
  },
  {
   "cell_type": "code",
   "execution_count": 50,
   "metadata": {},
   "outputs": [
    {
     "name": "stdout",
     "output_type": "stream",
     "text": [
      "[[-0.833189   -0.9931133   0.99999964  0.9987863   0.99905145]\n",
      " [-0.39503723 -0.9891931   0.97979647 -0.6916948   0.99109   ]\n",
      " [-0.23475975 -0.9548405   0.99985254  0.9993263   0.98874575]\n",
      " [ 0.03924279 -0.05626582  0.63885915  0.9605177   0.93835074]]\n"
     ]
    }
   ],
   "source": [
    "print(states_val)"
   ]
  },
  {
   "cell_type": "markdown",
   "metadata": {},
   "source": [
    "## Training RNN"
   ]
  },
  {
   "cell_type": "code",
   "execution_count": 90,
   "metadata": {},
   "outputs": [
    {
     "data": {
      "text/plain": [
       "((60000, 28, 28), (60000,))"
      ]
     },
     "execution_count": 90,
     "metadata": {},
     "output_type": "execute_result"
    }
   ],
   "source": [
    "(X_train, y_train), (X_test, y_test) = tf.keras.datasets.mnist.load_data()\n",
    "X_train.shape, y_train.shape"
   ]
  },
  {
   "cell_type": "code",
   "execution_count": 91,
   "metadata": {},
   "outputs": [
    {
     "data": {
      "text/plain": [
       "dtype('uint8')"
      ]
     },
     "execution_count": 91,
     "metadata": {},
     "output_type": "execute_result"
    }
   ],
   "source": [
    "X_train.dtype"
   ]
  },
  {
   "cell_type": "code",
   "execution_count": 92,
   "metadata": {},
   "outputs": [],
   "source": [
    "X_train = X_train.astype(np.float32) / 255.0\n",
    "X_test = X_test.astype(np.float32) / 255.0"
   ]
  },
  {
   "cell_type": "code",
   "execution_count": 93,
   "metadata": {},
   "outputs": [
    {
     "data": {
      "text/plain": [
       "array([5, 0, 4, 1, 9, 2, 1, 3, 1, 4], dtype=uint8)"
      ]
     },
     "execution_count": 93,
     "metadata": {},
     "output_type": "execute_result"
    }
   ],
   "source": [
    "y_train[:10]"
   ]
  },
  {
   "cell_type": "code",
   "execution_count": 94,
   "metadata": {},
   "outputs": [],
   "source": [
    "y_train = y_train.astype(np.int32)\n",
    "y_test = y_test.astype(np.int32)"
   ]
  },
  {
   "cell_type": "code",
   "execution_count": 67,
   "metadata": {},
   "outputs": [],
   "source": [
    "def shuffle_batch(X, y, batch_size):\n",
    "    rnd_idx = np.random.permutation(len(X))\n",
    "    n_batches = len(X) // batch_size\n",
    "    for batch_idx in np.array_split(rnd_idx, n_batches):\n",
    "        X_batch, y_batch = X[batch_idx], y[batch_idx]\n",
    "        yield X_batch, y_batch"
   ]
  },
  {
   "cell_type": "code",
   "execution_count": 95,
   "metadata": {},
   "outputs": [],
   "source": [
    "reset_graph()\n",
    "\n",
    "n_inputs = 28\n",
    "n_steps = 28\n",
    "n_neurons = 150\n",
    "n_outputs = 10\n",
    "\n",
    "learning_rate = 0.001\n",
    "\n",
    "with tf.name_scope(\"rnn\"):\n",
    "    X = tf.placeholder(tf.float32, (None, n_steps, n_inputs))\n",
    "    y = tf.placeholder(tf.int32, (None))\n",
    "\n",
    "    #basic_cell = tf.keras.layers.SimpleRNNCell(units=n_neurons)\n",
    "    basic_cell = tf.contrib.rnn.BasicRNNCell(num_units=n_neurons)\n",
    "    outputs, states = tf.nn.dynamic_rnn(basic_cell, X, dtype=tf.float32)\n",
    "\n",
    "    logits = tf.layers.dense(states, n_outputs)\n",
    "\n",
    "with tf.name_scope(\"loss\"):\n",
    "    xentropy = tf.nn.sparse_softmax_cross_entropy_with_logits(logits=logits, labels=y)\n",
    "    loss = tf.reduce_mean(xentropy)\n",
    "\n",
    "with tf.name_scope(\"train\"):\n",
    "    optimizer = tf.train.AdamOptimizer(learning_rate=learning_rate)\n",
    "    training_op = optimizer.minimize(loss)\n",
    "\n",
    "with tf.name_scope(\"eval\"):\n",
    "    correct = tf.nn.in_top_k(logits, y, 1)\n",
    "    accuracy = tf.reduce_mean(tf.cast(correct, dtype=tf.float32))\n",
    "\n",
    "init = tf.global_variables_initializer()"
   ]
  },
  {
   "cell_type": "code",
   "execution_count": 96,
   "metadata": {},
   "outputs": [
    {
     "name": "stdout",
     "output_type": "stream",
     "text": [
      "Epoch 0: Training acccuracy = 0.933\tTest accuracy = 0.913\n",
      "Epoch 1: Training acccuracy = 0.933\tTest accuracy = 0.952\n",
      "Epoch 2: Training acccuracy = 0.920\tTest accuracy = 0.951\n",
      "Epoch 3: Training acccuracy = 0.960\tTest accuracy = 0.960\n",
      "Epoch 4: Training acccuracy = 0.973\tTest accuracy = 0.970\n",
      "Epoch 5: Training acccuracy = 0.980\tTest accuracy = 0.968\n",
      "Epoch 6: Training acccuracy = 0.980\tTest accuracy = 0.966\n",
      "Epoch 7: Training acccuracy = 0.980\tTest accuracy = 0.970\n",
      "Epoch 8: Training acccuracy = 0.987\tTest accuracy = 0.970\n",
      "Epoch 9: Training acccuracy = 0.987\tTest accuracy = 0.978\n",
      "Epoch 10: Training acccuracy = 1.000\tTest accuracy = 0.973\n",
      "Epoch 11: Training acccuracy = 0.973\tTest accuracy = 0.971\n",
      "Epoch 12: Training acccuracy = 0.987\tTest accuracy = 0.966\n",
      "Epoch 13: Training acccuracy = 0.980\tTest accuracy = 0.967\n",
      "Epoch 14: Training acccuracy = 0.960\tTest accuracy = 0.971\n",
      "Epoch 15: Training acccuracy = 0.980\tTest accuracy = 0.974\n",
      "Epoch 16: Training acccuracy = 0.987\tTest accuracy = 0.967\n",
      "Epoch 17: Training acccuracy = 0.993\tTest accuracy = 0.972\n",
      "Epoch 18: Training acccuracy = 0.987\tTest accuracy = 0.975\n",
      "Epoch 19: Training acccuracy = 1.000\tTest accuracy = 0.976\n",
      "Epoch 20: Training acccuracy = 1.000\tTest accuracy = 0.973\n",
      "Epoch 21: Training acccuracy = 1.000\tTest accuracy = 0.975\n",
      "Epoch 22: Training acccuracy = 0.980\tTest accuracy = 0.971\n",
      "Epoch 23: Training acccuracy = 0.987\tTest accuracy = 0.975\n",
      "Epoch 24: Training acccuracy = 0.987\tTest accuracy = 0.977\n",
      "Epoch 25: Training acccuracy = 0.980\tTest accuracy = 0.972\n",
      "Epoch 26: Training acccuracy = 0.980\tTest accuracy = 0.977\n",
      "Epoch 27: Training acccuracy = 0.993\tTest accuracy = 0.977\n",
      "Epoch 28: Training acccuracy = 0.993\tTest accuracy = 0.975\n",
      "Epoch 29: Training acccuracy = 0.987\tTest accuracy = 0.978\n",
      "Epoch 30: Training acccuracy = 0.987\tTest accuracy = 0.974\n",
      "Epoch 31: Training acccuracy = 0.987\tTest accuracy = 0.979\n",
      "Epoch 32: Training acccuracy = 1.000\tTest accuracy = 0.978\n",
      "Epoch 33: Training acccuracy = 0.973\tTest accuracy = 0.975\n",
      "Epoch 34: Training acccuracy = 0.980\tTest accuracy = 0.976\n",
      "Epoch 35: Training acccuracy = 0.993\tTest accuracy = 0.979\n",
      "Epoch 36: Training acccuracy = 0.973\tTest accuracy = 0.978\n",
      "Epoch 37: Training acccuracy = 0.980\tTest accuracy = 0.978\n",
      "Epoch 38: Training acccuracy = 1.000\tTest accuracy = 0.975\n",
      "Epoch 39: Training acccuracy = 0.993\tTest accuracy = 0.978\n",
      "Epoch 40: Training acccuracy = 0.987\tTest accuracy = 0.975\n",
      "Epoch 41: Training acccuracy = 0.980\tTest accuracy = 0.974\n",
      "Epoch 42: Training acccuracy = 0.987\tTest accuracy = 0.975\n",
      "Epoch 43: Training acccuracy = 0.980\tTest accuracy = 0.972\n",
      "Epoch 44: Training acccuracy = 0.993\tTest accuracy = 0.980\n",
      "Epoch 45: Training acccuracy = 0.993\tTest accuracy = 0.977\n",
      "Epoch 46: Training acccuracy = 0.987\tTest accuracy = 0.980\n",
      "Epoch 47: Training acccuracy = 0.993\tTest accuracy = 0.974\n",
      "Epoch 48: Training acccuracy = 0.987\tTest accuracy = 0.980\n",
      "Epoch 49: Training acccuracy = 1.000\tTest accuracy = 0.975\n",
      "Epoch 50: Training acccuracy = 0.993\tTest accuracy = 0.970\n",
      "Epoch 51: Training acccuracy = 1.000\tTest accuracy = 0.975\n",
      "Epoch 52: Training acccuracy = 0.980\tTest accuracy = 0.975\n",
      "Epoch 53: Training acccuracy = 0.993\tTest accuracy = 0.976\n",
      "Epoch 54: Training acccuracy = 0.993\tTest accuracy = 0.972\n",
      "Epoch 55: Training acccuracy = 1.000\tTest accuracy = 0.979\n",
      "Epoch 56: Training acccuracy = 0.993\tTest accuracy = 0.972\n",
      "Epoch 57: Training acccuracy = 0.973\tTest accuracy = 0.967\n",
      "Epoch 58: Training acccuracy = 0.993\tTest accuracy = 0.972\n",
      "Epoch 59: Training acccuracy = 0.980\tTest accuracy = 0.975\n",
      "Epoch 60: Training acccuracy = 0.993\tTest accuracy = 0.978\n",
      "Epoch 61: Training acccuracy = 1.000\tTest accuracy = 0.980\n",
      "Epoch 62: Training acccuracy = 0.993\tTest accuracy = 0.977\n",
      "Epoch 63: Training acccuracy = 0.993\tTest accuracy = 0.978\n",
      "Epoch 64: Training acccuracy = 0.987\tTest accuracy = 0.976\n",
      "Epoch 65: Training acccuracy = 0.993\tTest accuracy = 0.976\n",
      "Epoch 66: Training acccuracy = 0.987\tTest accuracy = 0.978\n",
      "Epoch 67: Training acccuracy = 1.000\tTest accuracy = 0.978\n",
      "Epoch 68: Training acccuracy = 0.987\tTest accuracy = 0.977\n",
      "Epoch 69: Training acccuracy = 0.993\tTest accuracy = 0.976\n",
      "Epoch 70: Training acccuracy = 0.987\tTest accuracy = 0.977\n",
      "Epoch 71: Training acccuracy = 1.000\tTest accuracy = 0.979\n",
      "Epoch 72: Training acccuracy = 0.980\tTest accuracy = 0.978\n",
      "Epoch 73: Training acccuracy = 1.000\tTest accuracy = 0.974\n",
      "Epoch 74: Training acccuracy = 0.973\tTest accuracy = 0.967\n",
      "Epoch 75: Training acccuracy = 0.973\tTest accuracy = 0.976\n",
      "Epoch 76: Training acccuracy = 0.987\tTest accuracy = 0.976\n",
      "Epoch 77: Training acccuracy = 0.980\tTest accuracy = 0.978\n",
      "Epoch 78: Training acccuracy = 0.993\tTest accuracy = 0.978\n",
      "Epoch 79: Training acccuracy = 1.000\tTest accuracy = 0.979\n",
      "Epoch 80: Training acccuracy = 0.993\tTest accuracy = 0.978\n",
      "Epoch 81: Training acccuracy = 0.987\tTest accuracy = 0.980\n",
      "Epoch 82: Training acccuracy = 1.000\tTest accuracy = 0.978\n",
      "Epoch 83: Training acccuracy = 0.993\tTest accuracy = 0.978\n",
      "Epoch 84: Training acccuracy = 1.000\tTest accuracy = 0.973\n",
      "Epoch 85: Training acccuracy = 0.993\tTest accuracy = 0.981\n",
      "Epoch 86: Training acccuracy = 1.000\tTest accuracy = 0.978\n",
      "Epoch 87: Training acccuracy = 0.993\tTest accuracy = 0.977\n",
      "Epoch 88: Training acccuracy = 0.993\tTest accuracy = 0.978\n",
      "Epoch 89: Training acccuracy = 0.987\tTest accuracy = 0.977\n",
      "Epoch 90: Training acccuracy = 0.993\tTest accuracy = 0.978\n",
      "Epoch 91: Training acccuracy = 0.993\tTest accuracy = 0.980\n",
      "Epoch 92: Training acccuracy = 1.000\tTest accuracy = 0.976\n",
      "Epoch 93: Training acccuracy = 1.000\tTest accuracy = 0.974\n",
      "Epoch 94: Training acccuracy = 0.987\tTest accuracy = 0.978\n",
      "Epoch 95: Training acccuracy = 0.993\tTest accuracy = 0.967\n",
      "Epoch 96: Training acccuracy = 1.000\tTest accuracy = 0.973\n",
      "Epoch 97: Training acccuracy = 0.993\tTest accuracy = 0.981\n",
      "Epoch 98: Training acccuracy = 1.000\tTest accuracy = 0.979\n",
      "Epoch 99: Training acccuracy = 0.987\tTest accuracy = 0.975\n"
     ]
    }
   ],
   "source": [
    "n_epochs = 100\n",
    "batch_size = 150\n",
    "\n",
    "with tf.Session() as sess:\n",
    "    init.run()\n",
    "    for epoch in range(n_epochs):\n",
    "        for X_batch, y_batch in shuffle_batch(X_train, y_train, batch_size):\n",
    "            sess.run(training_op, feed_dict={X: X_batch, y: y_batch})\n",
    "        acc_train = accuracy.eval(feed_dict={X: X_batch, y: y_batch})\n",
    "        acc_test = accuracy.eval(feed_dict={X: X_test, y: y_test})\n",
    "        print(\"Epoch {}: Training acccuracy = {:.3f}\\tTest accuracy = {:.3f}\".format(epoch, acc_train, acc_test))"
   ]
  },
  {
   "cell_type": "markdown",
   "metadata": {},
   "source": [
    "## Time Series"
   ]
  },
  {
   "cell_type": "code",
   "execution_count": 97,
   "metadata": {},
   "outputs": [],
   "source": [
    "import matplotlib.pyplot as plt"
   ]
  },
  {
   "cell_type": "code",
   "execution_count": 113,
   "metadata": {},
   "outputs": [],
   "source": [
    "def time_series(t):\n",
    "    return t * np.sin(t) / 3 + 2 * np.sin(5 * t)"
   ]
  },
  {
   "cell_type": "code",
   "execution_count": 119,
   "metadata": {},
   "outputs": [],
   "source": [
    "t_min = 0\n",
    "t_max = 30\n",
    "resoltion = 0.1\n",
    "n_steps = 20\n",
    "\n",
    "t = np.linspace(t_min, t_max, int((t_max - t_min) / resoltion))\n",
    "t_batch = np.linspace(12.2, 12.2 + (n_steps + 1) * resoltion, n_steps + 1)"
   ]
  },
  {
   "cell_type": "code",
   "execution_count": 130,
   "metadata": {},
   "outputs": [
    {
     "data": {
      "image/png": "[encoded data removed]",
      "text/plain": [
       "<Figure size 792x288 with 2 Axes>"
      ]
     },
     "metadata": {},
     "output_type": "display_data"
    }
   ],
   "source": [
    "plt.figure(figsize=(11, 4))\n",
    "\n",
    "plt.subplot(121)\n",
    "plt.plot(t, time_series(t), label=r\"$t\\cdot\\sin(t) / 3 + 2\\cdot\\sin(5t)$\")\n",
    "plt.plot(t_batch, time_series(t_batch), 'b-', linewidth=3, label=\"A training instance\")\n",
    "plt.axis([0, 30, -15, 10])\n",
    "plt.legend(loc=\"lower left\")\n",
    "\n",
    "plt.subplot(122)\n",
    "plt.plot(t_batch[:-1], time_series(t_batch[:-1]), \"bo\", markersize=10, label=\"instance\")\n",
    "plt.plot(t_batch[1:], time_series(t_batch[1:]), \"w*\", markersize=10, markeredgecolor=\"k\", label=\"target\")\n",
    "plt.legend(loc=\"upper left\");"
   ]
  }
 ],
 "metadata": {
  "celltoolbar": "Raw Cell Format",
  "kernelspec": {
   "display_name": "Python 3",
   "language": "python",
   "name": "python3"
  },
  "language_info": {
   "codemirror_mode": {
    "name": "ipython",
    "version": 3
   },
   "file_extension": ".py",
   "mimetype": "text/x-python",
   "name": "python",
   "nbconvert_exporter": "python",
   "pygments_lexer": "ipython3",
   "version": "3.6.5"
  }
 },
 "nbformat": 4,
 "nbformat_minor": 2
}
