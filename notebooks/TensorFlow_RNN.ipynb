{
 "cells": [
  {
   "cell_type": "markdown",
   "metadata": {},
   "source": [
    "# Recurrent Neural Networks"
   ]
  },
  {
   "cell_type": "markdown",
   "metadata": {},
   "source": [
    "Recurrent layer output for one sample:\n",
    "\n",
    "$\\mathbf{y}_{(t)}=\\phi({\\mathbf{W}_x}^T\\cdot\\mathbf{x}_{(t)}+{\\mathbf{W}_y}^T\\cdot\\mathbf{y}_{(t-1)}+\\mathbf{b})$"
   ]
  },
  {
   "cell_type": "markdown",
   "metadata": {},
   "source": [
    "And for all samples:\n",
    "\n",
    "$\\begin{split}\n",
    "\\mathbf{Y}_{(t)}&=\\phi(\\mathbf{X}_{(t)}\\cdot\\mathbf{W}_{x}+\\mathbf{Y}_{(t-1)}\\cdot\\mathbf{W}_{y}+\\mathbf{b})\\\\\n",
    "&=\\phi(\\left[\\mathbf{X}_{(t)}\\phantom{X}\\mathbf{Y}_{(t-1)}\\right]\\cdot\\mathbf{W}+\\mathbf{b})\n",
    "\\end{split}$\n",
    "\n",
    "\n",
    "with $\\mathbf{W}=\\left[\\begin{array}{c}\n",
    "\\mathbf{W}_x\\\\\n",
    "\\mathbf{W}_y\n",
    "\\end{array}\\right]$\n",
    "\n",
    "- $\\mathbf{Y}_{(t)}$ - matrix $m \\times n_{\\text{neurons}}$\n",
    "- $\\mathbf{X}_{(t)}$ - matrix $m \\times n_{\\text{inputs}}$\n",
    "- $\\mathbf{W}_x$ - matrix $n_{\\text{inputs}} \\times n_{\\text{neurons}}$\n",
    "- $\\mathbf{W}_y$ - matrix $n_{\\text{neurons}} \\times n_{\\text{neurons}}$\n",
    "- $\\mathbf{b}$ - vector of size $n_{\\text{neurons}}$"
   ]
  },
  {
   "cell_type": "markdown",
   "metadata": {},
   "source": [
    "## Basic RNN with TensorFlow"
   ]
  },
  {
   "cell_type": "code",
   "execution_count": 45,
   "metadata": {},
   "outputs": [
    {
     "name": "stderr",
     "output_type": "stream",
     "text": [
      "/anaconda3/lib/python3.6/site-packages/h5py/__init__.py:36: FutureWarning: Conversion of the second argument of issubdtype from `float` to `np.floating` is deprecated. In future, it will be treated as `np.float64 == np.dtype(float).type`.\n",
      "  from ._conv import register_converters as _register_converters\n"
     ]
    }
   ],
   "source": [
    "import tensorflow as tf\n",
    "import matplotlib.pyplot as plt\n",
    "import numpy as np"
   ]
  },
  {
   "cell_type": "code",
   "execution_count": 44,
   "metadata": {},
   "outputs": [],
   "source": [
    "def reset_graph():\n",
    "    tf.reset_default_graph()"
   ]
  },
  {
   "cell_type": "code",
   "execution_count": 20,
   "metadata": {},
   "outputs": [],
   "source": [
    "reset_graph()\n",
    "\n",
    "n_inputs = 3\n",
    "n_neurons = 5\n",
    "\n",
    "X0 = tf.placeholder(tf.float32, (None, n_inputs))\n",
    "X1 = tf.placeholder(tf.float32, (None, n_inputs))\n",
    "\n",
    "Wx = tf.Variable(tf.random_normal(shape=(n_inputs, n_neurons)), dtype=tf.float32)\n",
    "Wy = tf.Variable(tf.random_normal(shape=(n_neurons, n_neurons)), dtype=tf.float32)\n",
    "b = tf.Variable(tf.zeros((1, n_neurons)), dtype=tf.float32)\n",
    "\n",
    "Y0 = tf.tanh(tf.matmul(X0, Wx) + b)\n",
    "Y1 = tf.tanh(tf.matmul(Y0, Wy) + tf.matmul(X1, Wx) + b)\n",
    "\n",
    "init = tf.global_variables_initializer()"
   ]
  },
  {
   "cell_type": "code",
   "execution_count": 21,
   "metadata": {},
   "outputs": [],
   "source": [
    "import numpy as np\n",
    "                    # sample 0  sample 1   sample 2   sample 3\n",
    "X0_batch = np.array([[0, 1, 2], [3, 4, 5], [6, 7, 8], [9, 0, 1]])  # t=0\n",
    "X1_batch = np.array([[9, 8, 7], [0, 0, 0], [6, 5, 4], [3, 2, 1]])  # t=1\n",
    "\n",
    "with tf.Session() as sess:\n",
    "    init.run()\n",
    "    Y0_val, Y1_val = sess.run([Y0, Y1], feed_dict={X0: X0_batch, X1: X1_batch})"
   ]
  },
  {
   "cell_type": "code",
   "execution_count": 24,
   "metadata": {},
   "outputs": [
    {
     "name": "stdout",
     "output_type": "stream",
     "text": [
      "[[ 0.9998845   0.9985211   0.9807717   0.42409754  0.12938699]\n",
      " [ 1.          1.          1.         -0.4425541   0.71254337]\n",
      " [ 1.          1.          1.         -0.88610226  0.9294788 ]\n",
      " [ 0.8929707  -0.2217794   0.9999999  -0.9999985   0.86951333]]\n"
     ]
    }
   ],
   "source": [
    "print(Y0_val)"
   ]
  },
  {
   "cell_type": "code",
   "execution_count": 23,
   "metadata": {},
   "outputs": [
    {
     "name": "stdout",
     "output_type": "stream",
     "text": [
      "[[ 1.          1.          1.         -0.98594075  0.7372455 ]\n",
      " [-0.96119756  0.82696277  0.98419595 -0.7695875  -0.92860484]\n",
      " [ 1.          1.          1.         -0.999511   -0.47752377]\n",
      " [ 0.9999276   0.9990764   0.99999905 -0.99869365 -0.98094934]]\n"
     ]
    }
   ],
   "source": [
    "print(Y1_val)"
   ]
  },
  {
   "cell_type": "markdown",
   "metadata": {},
   "source": [
    "## ``static_rnn()``"
   ]
  },
  {
   "cell_type": "code",
   "execution_count": 27,
   "metadata": {},
   "outputs": [],
   "source": [
    "reset_graph()\n",
    "\n",
    "X0 = tf.placeholder(tf.float32, (None, n_inputs))\n",
    "X1 = tf.placeholder(tf.float32, (None, n_inputs))\n",
    "\n",
    "basic_cell = tf.keras.layers.SimpleRNNCell(units=n_neurons)\n",
    "output_seqs, states = tf.contrib.rnn.static_rnn(basic_cell, [X0, X1], dtype=tf.float32)\n",
    "Y0, Y1 = output_seqs\n",
    "\n",
    "init = tf.global_variables_initializer()"
   ]
  },
  {
   "cell_type": "code",
   "execution_count": 28,
   "metadata": {},
   "outputs": [],
   "source": [
    "with tf.Session() as sess:\n",
    "    init.run()\n",
    "    Y0_val, Y1_val = sess.run([Y0, Y1], feed_dict={X0: X0_batch, X1: X1_batch})"
   ]
  },
  {
   "cell_type": "code",
   "execution_count": 29,
   "metadata": {},
   "outputs": [
    {
     "name": "stdout",
     "output_type": "stream",
     "text": [
      "[[ 0.7775582  -0.9588775   0.583342   -0.8656785   0.06241423]\n",
      " [ 0.9999786  -0.9997971   0.9766191  -0.99851596  0.85624963]\n",
      " [ 1.         -0.999999    0.99893725 -0.9999847   0.9865007 ]\n",
      " [ 0.99998623  0.9961089   0.9988884   0.89188784 -0.7275337 ]]\n"
     ]
    }
   ],
   "source": [
    "print(Y0_val)"
   ]
  },
  {
   "cell_type": "code",
   "execution_count": 30,
   "metadata": {},
   "outputs": [
    {
     "name": "stdout",
     "output_type": "stream",
     "text": [
      "[[ 1.         -0.99998355  0.9984809  -0.99999183  0.97817904]\n",
      " [-0.6203504  -0.33362556  0.00255545 -0.5979532  -0.95510876]\n",
      " [ 0.9999995  -0.9990898   0.9862038  -0.99920183  0.40492308]\n",
      " [ 0.9997139  -0.18447568  0.9781278  -0.97400355  0.9001233 ]]\n"
     ]
    }
   ],
   "source": [
    "print(Y1_val)"
   ]
  },
  {
   "cell_type": "markdown",
   "metadata": {},
   "source": [
    "Or the much better way to define X:"
   ]
  },
  {
   "cell_type": "code",
   "execution_count": 36,
   "metadata": {},
   "outputs": [],
   "source": [
    "reset_graph()\n",
    "\n",
    "n_steps = 2\n",
    "\n",
    "X = tf.placeholder(tf.float32, [None, n_steps, n_inputs])\n",
    "X_seqs = tf.unstack(tf.transpose(X, perm=[1, 0, 2]))\n",
    "basic_cell = tf.keras.layers.SimpleRNNCell(units=n_neurons)\n",
    "output_seqs, states = tf.contrib.rnn.static_rnn(basic_cell, X_seqs, dtype=tf.float32)\n",
    "outputs = tf.transpose(tf.stack(output_seqs), perm=[1, 0, 2])\n",
    "\n",
    "init = tf.global_variables_initializer()"
   ]
  },
  {
   "cell_type": "code",
   "execution_count": 37,
   "metadata": {},
   "outputs": [],
   "source": [
    "X_batch = np.array([\n",
    "      # t = 0      t = 1\n",
    "    [[0, 1, 2], [9, 8, 7]],  # sample 0\n",
    "    [[3, 4, 5], [0, 0, 0]],  # sample 1\n",
    "    [[6, 7, 8], [6, 5, 4]],  # sample 2\n",
    "    [[9, 0, 1], [3, 2, 1]]   # sample 3\n",
    "])\n",
    "\n",
    "with tf.Session() as sess:\n",
    "    init.run()\n",
    "    outputs_val = outputs.eval(feed_dict={X: X_batch})"
   ]
  },
  {
   "cell_type": "code",
   "execution_count": 38,
   "metadata": {},
   "outputs": [
    {
     "name": "stdout",
     "output_type": "stream",
     "text": [
      "[[[ 0.78644925  0.23237634  0.7817101  -0.5340793   0.88090867]\n",
      "  [ 0.85650396  0.99997795  0.99998057  0.99992603  0.9999137 ]]\n",
      "\n",
      " [[ 0.9377855   0.9444776   0.99797213  0.6387327   0.9977533 ]\n",
      "  [-0.08335785  0.90263355  0.24798323  0.8638597  -0.39955902]]\n",
      "\n",
      " [[ 0.9829014   0.99738544  0.99998325  0.9709079   0.99996   ]\n",
      "  [ 0.1397619   0.9996409   0.99957067  0.9998518   0.9657296 ]]\n",
      "\n",
      " [[-0.998372    0.9979464  -0.69987684  0.99930674 -0.9833075 ]\n",
      "  [-0.95189613  0.04853842  0.935623    0.97434515 -0.13885137]]]\n"
     ]
    }
   ],
   "source": [
    "print(outputs_val)"
   ]
  },
  {
   "cell_type": "markdown",
   "metadata": {},
   "source": [
    "## ``dynamic_rnn()``"
   ]
  },
  {
   "cell_type": "code",
   "execution_count": 39,
   "metadata": {},
   "outputs": [],
   "source": [
    "reset_graph()\n",
    "\n",
    "X = tf.placeholder(tf.float32, (None, n_steps, n_inputs))\n",
    "basic_cell = tf.keras.layers.SimpleRNNCell(units=n_neurons)\n",
    "outputs, states = tf.nn.dynamic_rnn(basic_cell, X, dtype=tf.float32)\n",
    "\n",
    "init = tf.global_variables_initializer()"
   ]
  },
  {
   "cell_type": "code",
   "execution_count": 41,
   "metadata": {},
   "outputs": [],
   "source": [
    "with tf.Session() as sess:\n",
    "    init.run()\n",
    "    outputs_val = outputs.eval(feed_dict={X: X_batch})"
   ]
  },
  {
   "cell_type": "code",
   "execution_count": 42,
   "metadata": {},
   "outputs": [
    {
     "name": "stdout",
     "output_type": "stream",
     "text": [
      "[[[-0.03482872 -0.2341569  -0.3819376  -0.5550543   0.95308256]\n",
      "  [-0.6414222   0.98714066  0.99987876 -1.          1.        ]]\n",
      "\n",
      " [[-0.4705129   0.6107307   0.6675099  -0.9990505   0.999997  ]\n",
      "  [ 0.25642464 -0.48041275  0.556726   -0.8514268   0.68712175]]\n",
      "\n",
      " [[-0.75591516  0.9300493   0.9650586  -0.9999984   1.        ]\n",
      "  [-0.6992848   0.9307176   0.9977707  -0.9999994   0.99999994]]\n",
      "\n",
      " [[ 0.650494    0.99166745  0.9998903  -0.9981866   0.9995775 ]\n",
      "  [ 0.38949347  0.890519    0.95712805 -0.9987376   0.9997413 ]]]\n"
     ]
    }
   ],
   "source": [
    "print(outputs_val)"
   ]
  },
  {
   "cell_type": "markdown",
   "metadata": {},
   "source": [
    "### Input sequences with different length"
   ]
  },
  {
   "cell_type": "code",
   "execution_count": 44,
   "metadata": {},
   "outputs": [],
   "source": [
    "reset_graph()\n",
    "\n",
    "seq_length = tf.placeholder(tf.int32, (None))\n",
    "\n",
    "X = tf.placeholder(tf.float32, (None, n_steps, n_inputs))\n",
    "basic_cell = tf.keras.layers.SimpleRNNCell(units=n_neurons)\n",
    "outputs, states = tf.nn.dynamic_rnn(basic_cell, X, dtype=tf.float32, sequence_length=seq_length)\n",
    "\n",
    "init = tf.global_variables_initializer()"
   ]
  },
  {
   "cell_type": "code",
   "execution_count": 48,
   "metadata": {},
   "outputs": [],
   "source": [
    "X_batch = np.array([\n",
    "      # t = 0      t = 1\n",
    "    [[0, 1, 2], [9, 8, 7]],  # sample 0\n",
    "    [[3, 4, 5], [0, 0, 0]],  # sample 1 with vector of zeroes (it means on the t = 1 there is no input)\n",
    "    [[6, 7, 8], [6, 5, 4]],  # sample 2\n",
    "    [[9, 0, 1], [3, 2, 1]]   # sample 3\n",
    "])\n",
    "\n",
    "seq_length_batch = np.array([2, 1, 2, 2])\n",
    "\n",
    "with tf.Session() as sess:\n",
    "    init.run()\n",
    "    outputs_val, states_val = sess.run([outputs, states], feed_dict={X: X_batch, seq_length: seq_length_batch})"
   ]
  },
  {
   "cell_type": "code",
   "execution_count": 49,
   "metadata": {},
   "outputs": [
    {
     "name": "stdout",
     "output_type": "stream",
     "text": [
      "[[[-0.07281392 -0.810872   -0.07239084 -0.8578082   0.7530198 ]\n",
      "  [-0.833189   -0.9931133   0.99999964  0.9987863   0.99905145]]\n",
      "\n",
      " [[-0.39503723 -0.9891931   0.97979647 -0.6916948   0.99109   ]\n",
      "  [ 0.          0.          0.          0.          0.        ]]\n",
      "\n",
      " [[-0.6425862  -0.9994348   0.9998199  -0.39474493  0.9997158 ]\n",
      "  [-0.23475975 -0.9548405   0.99985254  0.9993263   0.98874575]]\n",
      "\n",
      " [[-0.17676206  0.9956495   0.99999535  0.9999986   0.9998489 ]\n",
      "  [ 0.03924279 -0.05626582  0.63885915  0.9605177   0.93835074]]]\n"
     ]
    }
   ],
   "source": [
    "print(outputs_val)"
   ]
  },
  {
   "cell_type": "code",
   "execution_count": 50,
   "metadata": {},
   "outputs": [
    {
     "name": "stdout",
     "output_type": "stream",
     "text": [
      "[[-0.833189   -0.9931133   0.99999964  0.9987863   0.99905145]\n",
      " [-0.39503723 -0.9891931   0.97979647 -0.6916948   0.99109   ]\n",
      " [-0.23475975 -0.9548405   0.99985254  0.9993263   0.98874575]\n",
      " [ 0.03924279 -0.05626582  0.63885915  0.9605177   0.93835074]]\n"
     ]
    }
   ],
   "source": [
    "print(states_val)"
   ]
  },
  {
   "cell_type": "markdown",
   "metadata": {},
   "source": [
    "## Training RNN"
   ]
  },
  {
   "cell_type": "code",
   "execution_count": 90,
   "metadata": {},
   "outputs": [
    {
     "data": {
      "text/plain": [
       "((60000, 28, 28), (60000,))"
      ]
     },
     "execution_count": 90,
     "metadata": {},
     "output_type": "execute_result"
    }
   ],
   "source": [
    "(X_train, y_train), (X_test, y_test) = tf.keras.datasets.mnist.load_data()\n",
    "X_train.shape, y_train.shape"
   ]
  },
  {
   "cell_type": "code",
   "execution_count": 91,
   "metadata": {},
   "outputs": [
    {
     "data": {
      "text/plain": [
       "dtype('uint8')"
      ]
     },
     "execution_count": 91,
     "metadata": {},
     "output_type": "execute_result"
    }
   ],
   "source": [
    "X_train.dtype"
   ]
  },
  {
   "cell_type": "code",
   "execution_count": 92,
   "metadata": {},
   "outputs": [],
   "source": [
    "X_train = X_train.astype(np.float32) / 255.0\n",
    "X_test = X_test.astype(np.float32) / 255.0"
   ]
  },
  {
   "cell_type": "code",
   "execution_count": 93,
   "metadata": {},
   "outputs": [
    {
     "data": {
      "text/plain": [
       "array([5, 0, 4, 1, 9, 2, 1, 3, 1, 4], dtype=uint8)"
      ]
     },
     "execution_count": 93,
     "metadata": {},
     "output_type": "execute_result"
    }
   ],
   "source": [
    "y_train[:10]"
   ]
  },
  {
   "cell_type": "code",
   "execution_count": 94,
   "metadata": {},
   "outputs": [],
   "source": [
    "y_train = y_train.astype(np.int32)\n",
    "y_test = y_test.astype(np.int32)"
   ]
  },
  {
   "cell_type": "code",
   "execution_count": 46,
   "metadata": {},
   "outputs": [],
   "source": [
    "def get_train_test_mnist():\n",
    "    (X_train, y_train), (X_test, y_test) = tf.keras.datasets.mnist.load_data()\n",
    "    X_train = X_train.astype(np.float32) / 255.0\n",
    "    X_test = X_test.astype(np.float32) / 255.0\n",
    "    y_train = y_train.astype(np.int32)\n",
    "    y_test = y_test.astype(np.int32)\n",
    "    return X_train, X_test, y_train, y_test"
   ]
  },
  {
   "cell_type": "code",
   "execution_count": 47,
   "metadata": {},
   "outputs": [],
   "source": [
    "def shuffle_batch(X, y, batch_size):\n",
    "    rnd_idx = np.random.permutation(len(X))\n",
    "    n_batches = len(X) // batch_size\n",
    "    for batch_idx in np.array_split(rnd_idx, n_batches):\n",
    "        X_batch, y_batch = X[batch_idx], y[batch_idx]\n",
    "        yield X_batch, y_batch"
   ]
  },
  {
   "cell_type": "code",
   "execution_count": 6,
   "metadata": {},
   "outputs": [],
   "source": [
    "reset_graph()\n",
    "\n",
    "n_inputs = 28\n",
    "n_steps = 28\n",
    "n_neurons = 150\n",
    "n_outputs = 10\n",
    "\n",
    "learning_rate = 0.001\n",
    "\n",
    "with tf.name_scope(\"rnn\"):\n",
    "    X = tf.placeholder(tf.float32, (None, n_steps, n_inputs))\n",
    "    y = tf.placeholder(tf.int32, (None))\n",
    "\n",
    "    basic_cell = tf.keras.layers.SimpleRNNCell(units=n_neurons)\n",
    "    #basic_cell = tf.contrib.rnn.BasicRNNCell(num_units=n_neurons)\n",
    "    outputs, states = tf.nn.dynamic_rnn(basic_cell, X, dtype=tf.float32)\n",
    "\n",
    "    logits = tf.layers.dense(states, n_outputs)\n",
    "\n",
    "with tf.name_scope(\"loss\"):\n",
    "    xentropy = tf.nn.sparse_softmax_cross_entropy_with_logits(logits=logits, labels=y)\n",
    "    loss = tf.reduce_mean(xentropy)\n",
    "\n",
    "with tf.name_scope(\"train\"):\n",
    "    optimizer = tf.train.AdamOptimizer(learning_rate=learning_rate)\n",
    "    training_op = optimizer.minimize(loss)\n",
    "\n",
    "with tf.name_scope(\"eval\"):\n",
    "    correct = tf.nn.in_top_k(logits, y, 1)\n",
    "    accuracy = tf.reduce_mean(tf.cast(correct, dtype=tf.float32))\n",
    "\n",
    "init = tf.global_variables_initializer()"
   ]
  },
  {
   "cell_type": "code",
   "execution_count": 96,
   "metadata": {},
   "outputs": [
    {
     "name": "stdout",
     "output_type": "stream",
     "text": [
      "Epoch 0: Training acccuracy = 0.933\tTest accuracy = 0.913\n",
      "Epoch 1: Training acccuracy = 0.933\tTest accuracy = 0.952\n",
      "Epoch 2: Training acccuracy = 0.920\tTest accuracy = 0.951\n",
      "Epoch 3: Training acccuracy = 0.960\tTest accuracy = 0.960\n",
      "Epoch 4: Training acccuracy = 0.973\tTest accuracy = 0.970\n",
      "Epoch 5: Training acccuracy = 0.980\tTest accuracy = 0.968\n",
      "Epoch 6: Training acccuracy = 0.980\tTest accuracy = 0.966\n",
      "Epoch 7: Training acccuracy = 0.980\tTest accuracy = 0.970\n",
      "Epoch 8: Training acccuracy = 0.987\tTest accuracy = 0.970\n",
      "Epoch 9: Training acccuracy = 0.987\tTest accuracy = 0.978\n",
      "Epoch 10: Training acccuracy = 1.000\tTest accuracy = 0.973\n",
      "Epoch 11: Training acccuracy = 0.973\tTest accuracy = 0.971\n",
      "Epoch 12: Training acccuracy = 0.987\tTest accuracy = 0.966\n",
      "Epoch 13: Training acccuracy = 0.980\tTest accuracy = 0.967\n",
      "Epoch 14: Training acccuracy = 0.960\tTest accuracy = 0.971\n",
      "Epoch 15: Training acccuracy = 0.980\tTest accuracy = 0.974\n",
      "Epoch 16: Training acccuracy = 0.987\tTest accuracy = 0.967\n",
      "Epoch 17: Training acccuracy = 0.993\tTest accuracy = 0.972\n",
      "Epoch 18: Training acccuracy = 0.987\tTest accuracy = 0.975\n",
      "Epoch 19: Training acccuracy = 1.000\tTest accuracy = 0.976\n",
      "Epoch 20: Training acccuracy = 1.000\tTest accuracy = 0.973\n",
      "Epoch 21: Training acccuracy = 1.000\tTest accuracy = 0.975\n",
      "Epoch 22: Training acccuracy = 0.980\tTest accuracy = 0.971\n",
      "Epoch 23: Training acccuracy = 0.987\tTest accuracy = 0.975\n",
      "Epoch 24: Training acccuracy = 0.987\tTest accuracy = 0.977\n",
      "Epoch 25: Training acccuracy = 0.980\tTest accuracy = 0.972\n",
      "Epoch 26: Training acccuracy = 0.980\tTest accuracy = 0.977\n",
      "Epoch 27: Training acccuracy = 0.993\tTest accuracy = 0.977\n",
      "Epoch 28: Training acccuracy = 0.993\tTest accuracy = 0.975\n",
      "Epoch 29: Training acccuracy = 0.987\tTest accuracy = 0.978\n",
      "Epoch 30: Training acccuracy = 0.987\tTest accuracy = 0.974\n",
      "Epoch 31: Training acccuracy = 0.987\tTest accuracy = 0.979\n",
      "Epoch 32: Training acccuracy = 1.000\tTest accuracy = 0.978\n",
      "Epoch 33: Training acccuracy = 0.973\tTest accuracy = 0.975\n",
      "Epoch 34: Training acccuracy = 0.980\tTest accuracy = 0.976\n",
      "Epoch 35: Training acccuracy = 0.993\tTest accuracy = 0.979\n",
      "Epoch 36: Training acccuracy = 0.973\tTest accuracy = 0.978\n",
      "Epoch 37: Training acccuracy = 0.980\tTest accuracy = 0.978\n",
      "Epoch 38: Training acccuracy = 1.000\tTest accuracy = 0.975\n",
      "Epoch 39: Training acccuracy = 0.993\tTest accuracy = 0.978\n",
      "Epoch 40: Training acccuracy = 0.987\tTest accuracy = 0.975\n",
      "Epoch 41: Training acccuracy = 0.980\tTest accuracy = 0.974\n",
      "Epoch 42: Training acccuracy = 0.987\tTest accuracy = 0.975\n",
      "Epoch 43: Training acccuracy = 0.980\tTest accuracy = 0.972\n",
      "Epoch 44: Training acccuracy = 0.993\tTest accuracy = 0.980\n",
      "Epoch 45: Training acccuracy = 0.993\tTest accuracy = 0.977\n",
      "Epoch 46: Training acccuracy = 0.987\tTest accuracy = 0.980\n",
      "Epoch 47: Training acccuracy = 0.993\tTest accuracy = 0.974\n",
      "Epoch 48: Training acccuracy = 0.987\tTest accuracy = 0.980\n",
      "Epoch 49: Training acccuracy = 1.000\tTest accuracy = 0.975\n",
      "Epoch 50: Training acccuracy = 0.993\tTest accuracy = 0.970\n",
      "Epoch 51: Training acccuracy = 1.000\tTest accuracy = 0.975\n",
      "Epoch 52: Training acccuracy = 0.980\tTest accuracy = 0.975\n",
      "Epoch 53: Training acccuracy = 0.993\tTest accuracy = 0.976\n",
      "Epoch 54: Training acccuracy = 0.993\tTest accuracy = 0.972\n",
      "Epoch 55: Training acccuracy = 1.000\tTest accuracy = 0.979\n",
      "Epoch 56: Training acccuracy = 0.993\tTest accuracy = 0.972\n",
      "Epoch 57: Training acccuracy = 0.973\tTest accuracy = 0.967\n",
      "Epoch 58: Training acccuracy = 0.993\tTest accuracy = 0.972\n",
      "Epoch 59: Training acccuracy = 0.980\tTest accuracy = 0.975\n",
      "Epoch 60: Training acccuracy = 0.993\tTest accuracy = 0.978\n",
      "Epoch 61: Training acccuracy = 1.000\tTest accuracy = 0.980\n",
      "Epoch 62: Training acccuracy = 0.993\tTest accuracy = 0.977\n",
      "Epoch 63: Training acccuracy = 0.993\tTest accuracy = 0.978\n",
      "Epoch 64: Training acccuracy = 0.987\tTest accuracy = 0.976\n",
      "Epoch 65: Training acccuracy = 0.993\tTest accuracy = 0.976\n",
      "Epoch 66: Training acccuracy = 0.987\tTest accuracy = 0.978\n",
      "Epoch 67: Training acccuracy = 1.000\tTest accuracy = 0.978\n",
      "Epoch 68: Training acccuracy = 0.987\tTest accuracy = 0.977\n",
      "Epoch 69: Training acccuracy = 0.993\tTest accuracy = 0.976\n",
      "Epoch 70: Training acccuracy = 0.987\tTest accuracy = 0.977\n",
      "Epoch 71: Training acccuracy = 1.000\tTest accuracy = 0.979\n",
      "Epoch 72: Training acccuracy = 0.980\tTest accuracy = 0.978\n",
      "Epoch 73: Training acccuracy = 1.000\tTest accuracy = 0.974\n",
      "Epoch 74: Training acccuracy = 0.973\tTest accuracy = 0.967\n",
      "Epoch 75: Training acccuracy = 0.973\tTest accuracy = 0.976\n",
      "Epoch 76: Training acccuracy = 0.987\tTest accuracy = 0.976\n",
      "Epoch 77: Training acccuracy = 0.980\tTest accuracy = 0.978\n",
      "Epoch 78: Training acccuracy = 0.993\tTest accuracy = 0.978\n",
      "Epoch 79: Training acccuracy = 1.000\tTest accuracy = 0.979\n",
      "Epoch 80: Training acccuracy = 0.993\tTest accuracy = 0.978\n",
      "Epoch 81: Training acccuracy = 0.987\tTest accuracy = 0.980\n",
      "Epoch 82: Training acccuracy = 1.000\tTest accuracy = 0.978\n",
      "Epoch 83: Training acccuracy = 0.993\tTest accuracy = 0.978\n",
      "Epoch 84: Training acccuracy = 1.000\tTest accuracy = 0.973\n",
      "Epoch 85: Training acccuracy = 0.993\tTest accuracy = 0.981\n",
      "Epoch 86: Training acccuracy = 1.000\tTest accuracy = 0.978\n",
      "Epoch 87: Training acccuracy = 0.993\tTest accuracy = 0.977\n",
      "Epoch 88: Training acccuracy = 0.993\tTest accuracy = 0.978\n",
      "Epoch 89: Training acccuracy = 0.987\tTest accuracy = 0.977\n",
      "Epoch 90: Training acccuracy = 0.993\tTest accuracy = 0.978\n",
      "Epoch 91: Training acccuracy = 0.993\tTest accuracy = 0.980\n",
      "Epoch 92: Training acccuracy = 1.000\tTest accuracy = 0.976\n",
      "Epoch 93: Training acccuracy = 1.000\tTest accuracy = 0.974\n",
      "Epoch 94: Training acccuracy = 0.987\tTest accuracy = 0.978\n",
      "Epoch 95: Training acccuracy = 0.993\tTest accuracy = 0.967\n",
      "Epoch 96: Training acccuracy = 1.000\tTest accuracy = 0.973\n",
      "Epoch 97: Training acccuracy = 0.993\tTest accuracy = 0.981\n",
      "Epoch 98: Training acccuracy = 1.000\tTest accuracy = 0.979\n",
      "Epoch 99: Training acccuracy = 0.987\tTest accuracy = 0.975\n"
     ]
    }
   ],
   "source": [
    "n_epochs = 100\n",
    "batch_size = 150\n",
    "\n",
    "with tf.Session() as sess:\n",
    "    init.run()\n",
    "    for epoch in range(n_epochs):\n",
    "        for X_batch, y_batch in shuffle_batch(X_train, y_train, batch_size):\n",
    "            sess.run(training_op, feed_dict={X: X_batch, y: y_batch})\n",
    "        acc_train = accuracy.eval(feed_dict={X: X_batch, y: y_batch})\n",
    "        acc_test = accuracy.eval(feed_dict={X: X_test, y: y_test})\n",
    "        print(\"Epoch {}: Training acccuracy = {:.3f}\\tTest accuracy = {:.3f}\".format(epoch, acc_train, acc_test))"
   ]
  },
  {
   "cell_type": "markdown",
   "metadata": {},
   "source": [
    "## Time Series"
   ]
  },
  {
   "cell_type": "code",
   "execution_count": 1,
   "metadata": {},
   "outputs": [],
   "source": [
    "import matplotlib.pyplot as plt\n",
    "import numpy as np"
   ]
  },
  {
   "cell_type": "code",
   "execution_count": 2,
   "metadata": {},
   "outputs": [],
   "source": [
    "t_min = 0\n",
    "t_max = 30\n",
    "resolution = 0.1"
   ]
  },
  {
   "cell_type": "code",
   "execution_count": 3,
   "metadata": {},
   "outputs": [],
   "source": [
    "def time_series(t):\n",
    "    return t * np.sin(t) / 3 + 2 * np.sin(5 * t)"
   ]
  },
  {
   "cell_type": "code",
   "execution_count": 4,
   "metadata": {},
   "outputs": [],
   "source": [
    "def next_batch(batch_size, n_steps):\n",
    "    t0 = np.random.rand(batch_size, 1) * (t_max - t_min - n_steps * resolution)\n",
    "    Ts = t0 + np.arange(0., n_steps + 1) * resolution\n",
    "    ys = time_series(Ts)\n",
    "    return ys[:, :-1].reshape(-1, n_steps, 1), ys[:, 1:].reshape(-1, n_steps, 1)"
   ]
  },
  {
   "cell_type": "code",
   "execution_count": 24,
   "metadata": {},
   "outputs": [],
   "source": [
    "X_batch, y_batch = next_batch(2, 20)"
   ]
  },
  {
   "cell_type": "code",
   "execution_count": 27,
   "metadata": {},
   "outputs": [
    {
     "data": {
      "text/plain": [
       "array([[-2.64717691],\n",
       "       [-2.36668909],\n",
       "       [-2.47363871],\n",
       "       [-3.02936   ],\n",
       "       [-3.97570177],\n",
       "       [-5.14835602],\n",
       "       [-6.31627456],\n",
       "       [-7.23753267],\n",
       "       [-7.71797079],\n",
       "       [-7.65826428],\n",
       "       [-7.07790292],\n",
       "       [-6.11021431],\n",
       "       [-4.96965296],\n",
       "       [-3.89936633],\n",
       "       [-3.11187609],\n",
       "       [-2.73739733],\n",
       "       [-2.79244696],\n",
       "       [-3.17642338],\n",
       "       [-3.69698999],\n",
       "       [-4.1180414 ]])"
      ]
     },
     "execution_count": 27,
     "metadata": {},
     "output_type": "execute_result"
    }
   ],
   "source": [
    "X_batch[0]"
   ]
  },
  {
   "cell_type": "code",
   "execution_count": 28,
   "metadata": {},
   "outputs": [
    {
     "data": {
      "text/plain": [
       "array([[-2.36668909],\n",
       "       [-2.47363871],\n",
       "       [-3.02936   ],\n",
       "       [-3.97570177],\n",
       "       [-5.14835602],\n",
       "       [-6.31627456],\n",
       "       [-7.23753267],\n",
       "       [-7.71797079],\n",
       "       [-7.65826428],\n",
       "       [-7.07790292],\n",
       "       [-6.11021431],\n",
       "       [-4.96965296],\n",
       "       [-3.89936633],\n",
       "       [-3.11187609],\n",
       "       [-2.73739733],\n",
       "       [-2.79244696],\n",
       "       [-3.17642338],\n",
       "       [-3.69698999],\n",
       "       [-4.1180414 ],\n",
       "       [-4.21850083]])"
      ]
     },
     "execution_count": 28,
     "metadata": {},
     "output_type": "execute_result"
    }
   ],
   "source": [
    "y_batch[0]"
   ]
  },
  {
   "cell_type": "code",
   "execution_count": 32,
   "metadata": {},
   "outputs": [],
   "source": [
    "n_steps = 20\n",
    "\n",
    "t = np.linspace(t_min, t_max, int((t_max - t_min) / resolution))\n",
    "t_batch = np.linspace(12.2, 12.2 + (n_steps + 1) * resolution, n_steps + 1)"
   ]
  },
  {
   "cell_type": "code",
   "execution_count": 33,
   "metadata": {},
   "outputs": [
    {
     "data": {
      "image/png": "[encoded data removed]",
      "text/plain": [
       "<Figure size 792x288 with 2 Axes>"
      ]
     },
     "metadata": {},
     "output_type": "display_data"
    }
   ],
   "source": [
    "plt.figure(figsize=(11, 4))\n",
    "\n",
    "plt.subplot(121)\n",
    "plt.plot(t, time_series(t), label=r\"$t\\cdot\\sin(t) / 3 + 2\\cdot\\sin(5t)$\")\n",
    "plt.plot(t_batch, time_series(t_batch), 'b-', linewidth=3, label=\"A training instance\")\n",
    "plt.axis([0, 30, -15, 10])\n",
    "plt.legend(loc=\"lower left\")\n",
    "\n",
    "plt.subplot(122)\n",
    "plt.plot(t_batch[:-1], time_series(t_batch[:-1]), \"bo\", markersize=10, label=\"instance\")\n",
    "plt.plot(t_batch[1:], time_series(t_batch[1:]), \"w*\", markersize=10, markeredgecolor=\"k\", label=\"target\")\n",
    "plt.legend(loc=\"upper left\");"
   ]
  },
  {
   "cell_type": "code",
   "execution_count": 9,
   "metadata": {},
   "outputs": [],
   "source": [
    "reset_graph()\n",
    "\n",
    "n_steps = 20\n",
    "n_inputs = 1\n",
    "n_neurons = 100\n",
    "n_outputs = 1\n",
    "learning_rate = 0.001\n",
    "\n",
    "X = tf.placeholder(tf.float32, shape=(None, n_steps, n_inputs), name=\"X\")\n",
    "y = tf.placeholder(tf.float32, shape=(None, n_steps, n_outputs), name=\"y\")\n",
    "\n",
    "# [!] but in this case we'll get 100 outputs on each step. We need only 1 output on each step.\n",
    "\n",
    "#cell = tf.keras.layers.SimpleRNNCell(units=n_neurons, activation=tf.nn.relu)\n",
    "# outputs, states = tf.nn.dynamic_rnn(cell, X, dtype=tf.float32)\n",
    "\n",
    "with tf.name_scope(\"rnn\"):\n",
    "\n",
    "#  It doesn't work with tf.nn.dynamic_rnn\n",
    "#     cell = tf.contrib.rnn.OutputProjectionWrapper(tf.keras.layers.SimpleRNNCell(units=n_neurons, \n",
    "#                                                                                 activation=tf.nn.relu), \n",
    "#                                                   output_size=n_outputs)\n",
    "    cell = tf.contrib.rnn.OutputProjectionWrapper(tf.contrib.rnn.BasicRNNCell(num_units=n_neurons, \n",
    "                                                                              activation=tf.nn.relu), \n",
    "                                                  output_size=n_outputs)\n",
    "    outputs, states = tf.nn.dynamic_rnn(cell, X, dtype=tf.float32)\n",
    "\n",
    "with tf.name_scope(\"loss\"):\n",
    "    loss = tf.reduce_mean(tf.square(outputs - y), name=\"loss\")\n",
    "\n",
    "with tf.name_scope(\"training\"):\n",
    "    optimizer = tf.train.AdamOptimizer(learning_rate=learning_rate)\n",
    "    training_op = optimizer.minimize(loss)\n",
    "\n",
    "saver = tf.train.Saver()\n",
    "init = tf.global_variables_initializer()\n",
    "file_writer = tf.summary.FileWriter('../tf_logs/RNN_graph', tf.get_default_graph())"
   ]
  },
  {
   "cell_type": "code",
   "execution_count": 34,
   "metadata": {},
   "outputs": [
    {
     "name": "stdout",
     "output_type": "stream",
     "text": [
      "   0\tMSE: 10.579765\n",
      " 100\tMSE: 0.412781\n",
      " 200\tMSE: 0.128550\n",
      " 300\tMSE: 0.087552\n",
      " 400\tMSE: 0.057792\n",
      " 500\tMSE: 0.049437\n",
      " 600\tMSE: 0.045760\n",
      " 700\tMSE: 0.062534\n",
      " 800\tMSE: 0.053259\n",
      " 900\tMSE: 0.040020\n",
      "1000\tMSE: 0.044933\n",
      "1100\tMSE: 0.041668\n",
      "1200\tMSE: 0.045053\n",
      "1300\tMSE: 0.047864\n",
      "1400\tMSE: 0.049626\n"
     ]
    }
   ],
   "source": [
    "n_iterations = 1500\n",
    "batch_size = 50\n",
    "\n",
    "with tf.Session() as sess:\n",
    "    init.run()\n",
    "    for iteration in range(n_iterations):\n",
    "        X_batch, y_batch = next_batch(batch_size, n_steps)\n",
    "        sess.run(training_op, feed_dict={X: X_batch, y: y_batch})\n",
    "        if iteration % 100 == 0:\n",
    "            mse = loss.eval(feed_dict={X: X_batch, y: y_batch})\n",
    "            print(\"{:>4}\\tMSE: {:.6f}\".format(iteration, mse))\n",
    "    save_path = saver.save(sess, \"../models/RNN_model/RNN_model.ckpt\")"
   ]
  },
  {
   "cell_type": "code",
   "execution_count": 38,
   "metadata": {},
   "outputs": [
    {
     "data": {
      "text/plain": [
       "array([[[-3.38903462],\n",
       "        [-2.99062806],\n",
       "        [-2.05341138],\n",
       "        [-0.72228309],\n",
       "        [ 0.75538291],\n",
       "        [ 2.09516406],\n",
       "        [ 3.05094764],\n",
       "        [ 3.47993654],\n",
       "        [ 3.37980751],\n",
       "        [ 2.88802793],\n",
       "        [ 2.24353023],\n",
       "        [ 1.7210823 ],\n",
       "        [ 1.55604639],\n",
       "        [ 1.87980783],\n",
       "        [ 2.68328027],\n",
       "        [ 3.81833127],\n",
       "        [ 5.03675731],\n",
       "        [ 6.05632222],\n",
       "        [ 6.63608254],\n",
       "        [ 6.64072041]]])"
      ]
     },
     "execution_count": 38,
     "metadata": {},
     "output_type": "execute_result"
    }
   ],
   "source": [
    "X_new = time_series(np.array(t_batch[:-1].reshape(-1, n_steps, n_inputs)))\n",
    "X_new"
   ]
  },
  {
   "cell_type": "code",
   "execution_count": 39,
   "metadata": {},
   "outputs": [
    {
     "name": "stdout",
     "output_type": "stream",
     "text": [
      "INFO:tensorflow:Restoring parameters from ../models/RNN_model/RNN_model.ckpt\n"
     ]
    },
    {
     "data": {
      "text/plain": [
       "array([[[-3.418631 ],\n",
       "        [-2.5242887],\n",
       "        [-1.116062 ],\n",
       "        [ 0.7442514],\n",
       "        [ 2.1620588],\n",
       "        [ 3.014197 ],\n",
       "        [ 3.461007 ],\n",
       "        [ 3.3199575],\n",
       "        [ 2.8357456],\n",
       "        [ 2.1321704],\n",
       "        [ 1.6427138],\n",
       "        [ 1.547963 ],\n",
       "        [ 1.8917968],\n",
       "        [ 2.708661 ],\n",
       "        [ 3.8145556],\n",
       "        [ 5.0564547],\n",
       "        [ 6.1031137],\n",
       "        [ 6.6533237],\n",
       "        [ 6.6001925],\n",
       "        [ 6.002033 ]]], dtype=float32)"
      ]
     },
     "execution_count": 39,
     "metadata": {},
     "output_type": "execute_result"
    }
   ],
   "source": [
    "with tf.Session() as sess:\n",
    "    saver.restore(sess, save_path)\n",
    "    X_new = time_series(np.array(t_batch[:-1].reshape(-1, n_steps, n_inputs)))\n",
    "    y_pred = outputs.eval(feed_dict={X: X_new})\n",
    "y_pred"
   ]
  },
  {
   "cell_type": "code",
   "execution_count": 21,
   "metadata": {},
   "outputs": [],
   "source": [
    "def plot_results(X_new, y_pred):\n",
    "    plt.title(\"Testing the model\", fontsize=14)\n",
    "    plt.plot(t_batch[:-1], X_new.ravel(), 'bo', ms=10, label=\"Sample\")\n",
    "    plt.plot(t_batch[1:], time_series(t_batch[1:]), 'w*', ms=10, mec=\"k\", label=\"Target\")\n",
    "    plt.plot(t_batch[1:], y_pred.ravel(), 'ro', ms=5, label=\"Prediction\")\n",
    "    plt.xlabel(\"Time\")\n",
    "    plt.legend(loc=\"upper left\");"
   ]
  },
  {
   "cell_type": "code",
   "execution_count": 61,
   "metadata": {},
   "outputs": [
    {
     "data": {
      "image/png": "[encoded data removed]",
      "text/plain": [
       "<Figure size 432x288 with 1 Axes>"
      ]
     },
     "metadata": {},
     "output_type": "display_data"
    }
   ],
   "source": [
    "plot_results(X_new, y_pred)"
   ]
  },
  {
   "cell_type": "markdown",
   "metadata": {},
   "source": [
    "**The same as above but without ``OutputProjectionWrapper``**"
   ]
  },
  {
   "cell_type": "code",
   "execution_count": 62,
   "metadata": {},
   "outputs": [],
   "source": [
    "reset_graph()\n",
    "\n",
    "n_steps = 20\n",
    "n_inputs = 1\n",
    "n_neurons = 100\n",
    "n_outputs = 1\n",
    "\n",
    "learning_rate = 0.001\n",
    "\n",
    "X = tf.placeholder(tf.float32, shape=(None, n_steps, n_inputs))\n",
    "y = tf.placeholder(tf.float32, shape=(None, n_steps, n_outputs))\n",
    "\n",
    "with tf.name_scope(\"rnn\"):\n",
    "    cell = tf.contrib.rnn.BasicRNNCell(num_units=n_neurons, activation=tf.nn.relu)\n",
    "    rnn_outputs, states = tf.nn.dynamic_rnn(cell, X, dtype=tf.float32)\n",
    "    stacked_rnn_outputs = tf.reshape(rnn_outputs, shape=(-1, n_neurons))\n",
    "    stacked_outputs = tf.layers.dense(stacked_rnn_outputs, n_outputs)\n",
    "    outputs = tf.reshape(stacked_outputs, shape=(-1, n_steps, n_outputs))\n",
    "\n",
    "with tf.name_scope(\"loss\"):\n",
    "    loss = tf.reduce_mean(tf.square(outputs - y))\n",
    "\n",
    "with tf.name_scope(\"training\"):\n",
    "    optimizer = tf.train.AdamOptimizer(learning_rate=learning_rate)\n",
    "    training_op = optimizer.minimize(loss)\n",
    "\n",
    "saver = tf.train.Saver()\n",
    "init = tf.global_variables_initializer()\n",
    "file_writer = tf.summary.FileWriter(\"../tf_logs/RNN_dense_model\", tf.get_default_graph())"
   ]
  },
  {
   "cell_type": "code",
   "execution_count": 63,
   "metadata": {},
   "outputs": [
    {
     "name": "stdout",
     "output_type": "stream",
     "text": [
      "   0\tMSE: 19.119144\n",
      " 100\tMSE: 0.456892\n",
      " 200\tMSE: 0.246259\n",
      " 300\tMSE: 0.089165\n",
      " 400\tMSE: 0.073335\n",
      " 500\tMSE: 0.052384\n",
      " 600\tMSE: 0.050028\n",
      " 700\tMSE: 0.062669\n",
      " 800\tMSE: 0.059116\n",
      " 900\tMSE: 0.046589\n",
      "1000\tMSE: 0.050910\n",
      "1100\tMSE: 0.039381\n",
      "1200\tMSE: 0.040723\n",
      "1300\tMSE: 0.042398\n",
      "1400\tMSE: 0.051509\n"
     ]
    }
   ],
   "source": [
    "n_iterations = 1500\n",
    "batch_size = 50\n",
    "\n",
    "with tf.Session() as sess:\n",
    "    init.run()\n",
    "    for iteration in range(n_iterations):\n",
    "        X_batch, y_batch = next_batch(batch_size, n_steps)\n",
    "        sess.run(training_op, feed_dict={X: X_batch, y: y_batch})\n",
    "        if iteration % 100 == 0:\n",
    "            mse = loss.eval(feed_dict={X: X_batch, y: y_batch})\n",
    "            print(\"{:>4}\\tMSE: {:.6f}\".format(iteration, mse))\n",
    "    save_path = saver.save(sess, \"../models/RNN_dense_model/RNN_dense_model.ckpt\")"
   ]
  },
  {
   "cell_type": "code",
   "execution_count": 64,
   "metadata": {},
   "outputs": [
    {
     "name": "stdout",
     "output_type": "stream",
     "text": [
      "INFO:tensorflow:Restoring parameters from ../models/RNN_dense_model/RNN_dense_model.ckpt\n"
     ]
    },
    {
     "data": {
      "text/plain": [
       "array([[[-3.4043775],\n",
       "        [-2.4661093],\n",
       "        [-1.1606103],\n",
       "        [ 0.5833237],\n",
       "        [ 2.102199 ],\n",
       "        [ 3.0753608],\n",
       "        [ 3.503358 ],\n",
       "        [ 3.3203838],\n",
       "        [ 2.7397053],\n",
       "        [ 2.1419108],\n",
       "        [ 1.7022904],\n",
       "        [ 1.5795189],\n",
       "        [ 1.8956374],\n",
       "        [ 2.6968946],\n",
       "        [ 3.8882375],\n",
       "        [ 5.170391 ],\n",
       "        [ 6.1858897],\n",
       "        [ 6.7004714],\n",
       "        [ 6.6157036],\n",
       "        [ 5.9950366]]], dtype=float32)"
      ]
     },
     "execution_count": 64,
     "metadata": {},
     "output_type": "execute_result"
    }
   ],
   "source": [
    "with tf.Session() as sess:\n",
    "    saver.restore(sess, save_path)\n",
    "    X_new = time_series(np.array(t_batch[:-1].reshape(-1, n_steps, n_inputs)))\n",
    "    y_pred = outputs.eval(feed_dict={X: X_new})\n",
    "y_pred"
   ]
  },
  {
   "cell_type": "code",
   "execution_count": 65,
   "metadata": {},
   "outputs": [
    {
     "data": {
      "image/png": "[encoded data removed]",
      "text/plain": [
       "<Figure size 432x288 with 1 Axes>"
      ]
     },
     "metadata": {},
     "output_type": "display_data"
    }
   ],
   "source": [
    "plot_results(X_new, y_pred)"
   ]
  },
  {
   "cell_type": "markdown",
   "metadata": {},
   "source": [
    "## Deep RNN"
   ]
  },
  {
   "cell_type": "code",
   "execution_count": 5,
   "metadata": {},
   "outputs": [],
   "source": [
    "import numpy as np"
   ]
  },
  {
   "cell_type": "code",
   "execution_count": 4,
   "metadata": {},
   "outputs": [],
   "source": [
    "reset_graph()\n",
    "\n",
    "n_steps = 20\n",
    "n_inputs = 2\n",
    "n_neurons = 100\n",
    "n_layers = 3\n",
    "\n",
    "X = tf.placeholder(dtype=tf.float32, shape=(None, n_steps, n_inputs), name=\"X\")\n",
    "\n",
    "layers = [tf.contrib.rnn.BasicRNNCell(num_units=n_neurons, activation=tf.nn.relu) for layer in range(n_layers)]\n",
    "multi_layer_cell = tf.contrib.rnn.MultiRNNCell(layers)\n",
    "outputs, states = tf.nn.dynamic_rnn(multi_layer_cell, X, dtype=tf.float32)\n",
    "\n",
    "init = tf.global_variables_initializer()"
   ]
  },
  {
   "cell_type": "code",
   "execution_count": 6,
   "metadata": {},
   "outputs": [],
   "source": [
    "X_batch = np.random.rand(2, n_steps, n_inputs)"
   ]
  },
  {
   "cell_type": "code",
   "execution_count": 8,
   "metadata": {},
   "outputs": [],
   "source": [
    "with tf.Session() as sess:\n",
    "    init.run()\n",
    "    outputs_val, states_val = sess.run([outputs, states], feed_dict={X: X_batch})"
   ]
  },
  {
   "cell_type": "code",
   "execution_count": 9,
   "metadata": {},
   "outputs": [
    {
     "data": {
      "text/plain": [
       "(2, 20, 100)"
      ]
     },
     "execution_count": 9,
     "metadata": {},
     "output_type": "execute_result"
    }
   ],
   "source": [
    "outputs_val.shape"
   ]
  },
  {
   "cell_type": "markdown",
   "metadata": {},
   "source": [
    "## Distributing a Depp RNN across multiple devices"
   ]
  },
  {
   "cell_type": "code",
   "execution_count": 10,
   "metadata": {},
   "outputs": [],
   "source": [
    "class DeviceCellWrapper(tf.contrib.rnn.BasicRNNCell):\n",
    "    def __init__(self, device, cell):\n",
    "        self._cell = cell\n",
    "        self._device = device\n",
    "    \n",
    "    @property\n",
    "    def state_size(self):\n",
    "        return self._cell.state_size\n",
    "    \n",
    "    @property\n",
    "    def output_size(self):\n",
    "        return self._cell.output_size\n",
    "    \n",
    "    def __call__(self, inputs, state, scope=None):\n",
    "        with tf.device(self._device):\n",
    "            return self._cell(inputs, state, scope)"
   ]
  },
  {
   "cell_type": "code",
   "execution_count": 11,
   "metadata": {},
   "outputs": [],
   "source": [
    "reset_graph()\n",
    "\n",
    "n_inputs = 5\n",
    "n_steps = 20\n",
    "n_neurons = 100\n",
    "\n",
    "X = tf.placeholder(tf.float32, shape=(None, n_steps, n_inputs), name=\"X\")\n",
    "\n",
    "devices = [\"/gpu:0\", \"/gpu:1\", \"/gpu:2\"]\n",
    "\n",
    "cells = [DeviceCellWrapper(dev, tf.contrib.rnn.BasicRNNCell(num_units=n_neurons, activation=tf.nn.relu)) \n",
    "         for dev in devices]\n",
    "\n",
    "multi_layer_cell = tf.contrib.rnn.MultiRNNCell(cells)\n",
    "outputs, states = tf.nn.dynamic_rnn(multi_layer_cell, X, dtype=tf.float32)\n",
    "\n",
    "init = tf.global_variables_initializer()"
   ]
  },
  {
   "cell_type": "markdown",
   "metadata": {},
   "source": [
    "## Dropout"
   ]
  },
  {
   "cell_type": "code",
   "execution_count": 16,
   "metadata": {},
   "outputs": [],
   "source": [
    "reset_graph()\n",
    "\n",
    "n_inputs = 1\n",
    "n_steps = 20\n",
    "n_neurons = 100\n",
    "n_layers = 3\n",
    "n_outputs = 1\n",
    "\n",
    "learning_rate = 0.001\n",
    "\n",
    "X = tf.placeholder(tf.float32, shape=(None, n_steps, n_inputs), name=\"X\")\n",
    "y = tf.placeholder(tf.float32, shape=(None, n_steps, n_outputs), name=\"y\")\n",
    "keep_prob = tf.placeholder_with_default(1.0, shape=())\n",
    "\n",
    "with tf.name_scope(\"DRNN\"):\n",
    "    cells = [tf.contrib.rnn.BasicRNNCell(num_units=n_neurons) for layer in range(n_layers)]\n",
    "\n",
    "    # dropout after each layer\n",
    "    cells_drop = [tf.contrib.rnn.DropoutWrapper(cell, input_keep_prob=keep_prob) for cell in cells]\n",
    "    multi_layer_cell = tf.contrib.rnn.MultiRNNCell(cells_drop)\n",
    "    rnn_outputs, states = tf.nn.dynamic_rnn(multi_layer_cell, X, dtype=tf.float32)\n",
    "    rnn_outputs_stacked = tf.reshape(rnn_outputs, shape=(-1, n_neurons))\n",
    "    stacked_outputs = tf.layers.dense(rnn_outputs_stacked, n_outputs)\n",
    "    outputs = tf.reshape(stacked_outputs, shape=(-1, n_steps, n_outputs))\n",
    "    \n",
    "with tf.name_scope(\"loss\"):\n",
    "    loss = tf.reduce_mean(tf.square(outputs - y), name=\"loss\")\n",
    "    \n",
    "with tf.name_scope(\"training\"):\n",
    "    optimizer = tf.train.AdamOptimizer(learning_rate=learning_rate)\n",
    "    training_op = optimizer.minimize(loss)\n",
    "    \n",
    "init = tf.global_variables_initializer()\n",
    "saver = tf.train.Saver()"
   ]
  },
  {
   "cell_type": "code",
   "execution_count": 18,
   "metadata": {},
   "outputs": [
    {
     "name": "stdout",
     "output_type": "stream",
     "text": [
      "   0\t MSE: 17.907507\n",
      " 100\t MSE: 3.986404\n",
      " 200\t MSE: 4.240381\n",
      " 300\t MSE: 3.237766\n",
      " 400\t MSE: 2.602382\n",
      " 500\t MSE: 3.226249\n",
      " 600\t MSE: 2.719673\n",
      " 700\t MSE: 3.281750\n",
      " 800\t MSE: 2.425601\n",
      " 900\t MSE: 2.920539\n",
      "1000\t MSE: 2.369786\n",
      "1100\t MSE: 3.197427\n",
      "1200\t MSE: 2.260556\n",
      "1300\t MSE: 2.157855\n",
      "1400\t MSE: 2.022089\n"
     ]
    }
   ],
   "source": [
    "n_iterations = 1500\n",
    "batch_size = 50\n",
    "train_keep_prob = 0.5\n",
    "\n",
    "with tf.Session() as sess:\n",
    "    init.run()\n",
    "    for iteration in range(n_iterations):\n",
    "        X_batch, y_batch = next_batch(batch_size, n_steps)\n",
    "        _, mse = sess.run([training_op, loss], feed_dict={X: X_batch, y: y_batch, keep_prob: train_keep_prob})\n",
    "        if iteration % 100 == 0:\n",
    "            print(\"{:>4}\\t MSE: {:.6f}\".format(iteration, mse))\n",
    "    save_path = saver.save(sess, \"../tf_logs/DRNN_Dropout/DRNN_Dropout.ckpt\")"
   ]
  },
  {
   "cell_type": "code",
   "execution_count": 19,
   "metadata": {},
   "outputs": [],
   "source": [
    "n_steps = 20\n",
    "\n",
    "t = np.linspace(t_min, t_max, int((t_max - t_min) / resolution))\n",
    "t_batch = np.linspace(12.2, 12.2 + (n_steps + 1) * resolution, n_steps + 1)"
   ]
  },
  {
   "cell_type": "code",
   "execution_count": 20,
   "metadata": {},
   "outputs": [
    {
     "name": "stdout",
     "output_type": "stream",
     "text": [
      "INFO:tensorflow:Restoring parameters from ../tf_logs/DRNN_Dropout/DRNN_Dropout.ckpt\n"
     ]
    },
    {
     "data": {
      "text/plain": [
       "array([[[-2.1434672 ],\n",
       "        [-1.1598965 ],\n",
       "        [-0.63197285],\n",
       "        [ 0.0643439 ],\n",
       "        [ 0.24737701],\n",
       "        [ 1.2513586 ],\n",
       "        [ 0.8129308 ],\n",
       "        [ 0.94653857],\n",
       "        [ 0.35581866],\n",
       "        [ 0.4564511 ],\n",
       "        [ 0.18775132],\n",
       "        [-0.04137591],\n",
       "        [ 0.25476548],\n",
       "        [ 1.2167852 ],\n",
       "        [ 2.2852168 ],\n",
       "        [ 3.1037507 ],\n",
       "        [ 3.7475863 ],\n",
       "        [ 3.7839715 ],\n",
       "        [ 3.4720988 ],\n",
       "        [ 2.8120358 ]]], dtype=float32)"
      ]
     },
     "execution_count": 20,
     "metadata": {},
     "output_type": "execute_result"
    }
   ],
   "source": [
    "with tf.Session() as sess:\n",
    "    saver.restore(sess, save_path)\n",
    "    X_new = time_series(np.array(t_batch[:-1].reshape(-1, n_steps, n_inputs)))\n",
    "    y_pred = outputs.eval(feed_dict={X: X_new})\n",
    "y_pred"
   ]
  },
  {
   "cell_type": "code",
   "execution_count": 24,
   "metadata": {},
   "outputs": [
    {
     "data": {
      "image/png": "[encoded data removed]",
      "text/plain": [
       "<Figure size 432x288 with 1 Axes>"
      ]
     },
     "metadata": {},
     "output_type": "display_data"
    }
   ],
   "source": [
    "plot_results(X_new, y_pred)"
   ]
  },
  {
   "cell_type": "markdown",
   "metadata": {},
   "source": [
    "# LSTM"
   ]
  },
  {
   "cell_type": "markdown",
   "metadata": {},
   "source": [
    "- $\\mathbf{c}_{(t)}$ - long-term memory\n",
    "- $\\mathbf{h}_{(t)}$ - short-term memory\n",
    "\n",
    "Gates:\n",
    "\n",
    "- $\\mathbf{i}_{(t)}$ - input gate\n",
    "- $\\mathbf{f}_{(t)}$ - forget gate\n",
    "- $\\mathbf{o}_{(t)}$ - output gate\n",
    "- $\\mathbf{g}_{(t)}$ - general gate\n",
    "\n",
    "\n",
    "Outputs:\n",
    "- $\\mathbf{i}_{(t)} = \\sigma\\left({\\mathbf{W}_{xi}}^T\\cdot\\mathbf{x}_{(t)} \n",
    "+ {\\mathbf{W}_{hi}}^T\\cdot\\mathbf{h}_{(t-1)} + \\mathbf{b}_i\\right)$\n",
    "- $\\mathbf{f}_{(t)} = \\sigma\\left({\\mathbf{W}_{xf}}^T\\cdot\\mathbf{x}_{(t)} \n",
    "+ {\\mathbf{W}_{hf}}^T\\cdot\\mathbf{h}_{(t-1)} + \\mathbf{b}_f\\right)$\n",
    "- $\\mathbf{o}_{(t)} = \\sigma\\left({\\mathbf{W}_{xo}}^T\\cdot\\mathbf{x}_{(t)} \n",
    "+ {\\mathbf{W}_{ho}}^T\\cdot\\mathbf{h}_{(t-1)} + \\mathbf{b}_o\\right)$\n",
    "- $\\mathbf{g}_{(t)} = \\text{tanh}\\left({\\mathbf{W}_{xg}}^T\\cdot\\mathbf{x}_{(t)} \n",
    "+ {\\mathbf{W}_{hg}}^T\\cdot\\mathbf{h}_{(t-1)} + \\mathbf{b}_g\\right)$\n",
    "- $\\mathbf{c}_{(t)} = \\mathbf{f}_{(t)}\\otimes\\mathbf{c}_{(t-1)} + \\mathbf{i}_{(t)}\\otimes\\mathbf{g}_{(t)}$\n",
    "- $\\mathbf{y}_{(t)} = \\mathbf{h}_{(t)} = \\mathbf{o}_{(t)}\\otimes\\text{tanh}\\left(\\mathbf{c}_{(t)}\\right)$"
   ]
  },
  {
   "cell_type": "code",
   "execution_count": 48,
   "metadata": {},
   "outputs": [],
   "source": [
    "X_train, X_test, y_train, y_test = get_train_test_mnist()"
   ]
  },
  {
   "cell_type": "code",
   "execution_count": 50,
   "metadata": {},
   "outputs": [
    {
     "data": {
      "text/plain": [
       "((60000, 28, 28), (10000, 28, 28), (60000,), (10000,))"
      ]
     },
     "execution_count": 50,
     "metadata": {},
     "output_type": "execute_result"
    }
   ],
   "source": [
    "X_train.shape, X_test.shape, y_train.shape, y_test.shape"
   ]
  },
  {
   "cell_type": "code",
   "execution_count": 56,
   "metadata": {},
   "outputs": [],
   "source": [
    "reset_graph()\n",
    "\n",
    "n_inputs = 28\n",
    "n_steps = 28\n",
    "n_neurons = 150\n",
    "n_layers = 3\n",
    "n_outputs = 10\n",
    "\n",
    "learning_rate = 0.001\n",
    "\n",
    "X = tf.placeholder(dtype=tf.float32, shape=(None, n_steps, n_inputs), name=\"X\")\n",
    "y = tf.placeholder(dtype=tf.int32, shape=(None))\n",
    "\n",
    "lstm_cells = [tf.nn.rnn_cell.LSTMCell(num_units=n_neurons) for layer in range(n_layers)]\n",
    "multi_cell = tf.contrib.rnn.MultiRNNCell(lstm_cells)\n",
    "outputs, states = tf.nn.dynamic_rnn(multi_cell, X, dtype=tf.float32)\n",
    "top_layer_h_state = states[-1][1]\n",
    "logits = tf.layers.dense(top_layer_h_state, n_outputs, name=\"softmax\")\n",
    "xentropy = tf.nn.sparse_softmax_cross_entropy_with_logits(logits=logits, labels=y)\n",
    "loss = tf.reduce_mean(xentropy, name=\"loss\")\n",
    "optimizer = tf.train.AdamOptimizer(learning_rate=learning_rate)\n",
    "training_op = optimizer.minimize(loss)\n",
    "correct = tf.nn.in_top_k(logits, y, 1)\n",
    "accuracy = tf.reduce_mean(tf.cast(correct, tf.float32))\n",
    "\n",
    "init = tf.global_variables_initializer()"
   ]
  },
  {
   "cell_type": "code",
   "execution_count": 57,
   "metadata": {},
   "outputs": [
    {
     "data": {
      "text/plain": [
       "(LSTMStateTuple(c=<tf.Tensor 'rnn/while/Exit_3:0' shape=(?, 150) dtype=float32>, h=<tf.Tensor 'rnn/while/Exit_4:0' shape=(?, 150) dtype=float32>),\n",
       " LSTMStateTuple(c=<tf.Tensor 'rnn/while/Exit_5:0' shape=(?, 150) dtype=float32>, h=<tf.Tensor 'rnn/while/Exit_6:0' shape=(?, 150) dtype=float32>),\n",
       " LSTMStateTuple(c=<tf.Tensor 'rnn/while/Exit_7:0' shape=(?, 150) dtype=float32>, h=<tf.Tensor 'rnn/while/Exit_8:0' shape=(?, 150) dtype=float32>))"
      ]
     },
     "execution_count": 57,
     "metadata": {},
     "output_type": "execute_result"
    }
   ],
   "source": [
    "states"
   ]
  },
  {
   "cell_type": "code",
   "execution_count": 58,
   "metadata": {},
   "outputs": [
    {
     "data": {
      "text/plain": [
       "<tf.Tensor 'rnn/while/Exit_8:0' shape=(?, 150) dtype=float32>"
      ]
     },
     "execution_count": 58,
     "metadata": {},
     "output_type": "execute_result"
    }
   ],
   "source": [
    "top_layer_h_state"
   ]
  },
  {
   "cell_type": "code",
   "execution_count": 61,
   "metadata": {},
   "outputs": [
    {
     "name": "stdout",
     "output_type": "stream",
     "text": [
      "Epoch  0\tTraining set accuracy: 0.97333\tTest set accuracy: 0.98000\n",
      "Epoch  1\tTraining set accuracy: 0.97333\tTest set accuracy: 1.00000\n",
      "Epoch  2\tTraining set accuracy: 0.99333\tTest set accuracy: 1.00000\n",
      "Epoch  3\tTraining set accuracy: 1.00000\tTest set accuracy: 1.00000\n",
      "Epoch  4\tTraining set accuracy: 1.00000\tTest set accuracy: 1.00000\n",
      "Epoch  5\tTraining set accuracy: 1.00000\tTest set accuracy: 1.00000\n",
      "Epoch  6\tTraining set accuracy: 1.00000\tTest set accuracy: 1.00000\n",
      "Epoch  7\tTraining set accuracy: 0.99333\tTest set accuracy: 0.99333\n",
      "Epoch  8\tTraining set accuracy: 0.99333\tTest set accuracy: 0.99333\n",
      "Epoch  9\tTraining set accuracy: 1.00000\tTest set accuracy: 0.99333\n"
     ]
    }
   ],
   "source": [
    "n_epochs = 10\n",
    "batch_size = 150\n",
    "\n",
    "with tf.Session() as sess:\n",
    "    init.run()\n",
    "    for epoch in range(n_epochs):\n",
    "        for X_batch, y_batch in shuffle_batch(X_train, y_train, batch_size):\n",
    "            sess.run(training_op, feed_dict={X: X_batch, y: y_batch})\n",
    "        acc_train = accuracy.eval(feed_dict={X: X_batch, y: y_batch})\n",
    "        acc_test = accuracy.eval(feed_dict={X: X_test[:150], y: y_test[:150]})\n",
    "        print(\"Epoch {:>2}\\tTraining set accuracy: {:.5f}\\tTest set accuracy: {:.5f}\".format(epoch, \n",
    "                                                                                             acc_train, \n",
    "                                                                                             acc_test))"
   ]
  },
  {
   "cell_type": "markdown",
   "metadata": {},
   "source": [
    "## Multi-step forecasting"
   ]
  },
  {
   "cell_type": "markdown",
   "metadata": {},
   "source": [
    "## Vectorized output"
   ]
  },
  {
   "cell_type": "code",
   "execution_count": 1,
   "metadata": {},
   "outputs": [
    {
     "name": "stderr",
     "output_type": "stream",
     "text": [
      "/anaconda3/lib/python3.6/site-packages/h5py/__init__.py:36: FutureWarning: Conversion of the second argument of issubdtype from `float` to `np.floating` is deprecated. In future, it will be treated as `np.float64 == np.dtype(float).type`.\n",
      "  from ._conv import register_converters as _register_converters\n"
     ]
    }
   ],
   "source": [
    "import tensorflow as tf\n",
    "import matplotlib.pyplot as plt\n",
    "import numpy as np"
   ]
  },
  {
   "cell_type": "code",
   "execution_count": 6,
   "metadata": {},
   "outputs": [],
   "source": [
    "def reset_graph():\n",
    "    tf.reset_default_graph()"
   ]
  },
  {
   "cell_type": "code",
   "execution_count": 7,
   "metadata": {},
   "outputs": [],
   "source": [
    "t_min = 0\n",
    "t_max = 30\n",
    "resolution = 0.1"
   ]
  },
  {
   "cell_type": "code",
   "execution_count": 8,
   "metadata": {},
   "outputs": [],
   "source": [
    "def time_series(t):\n",
    "    return t * np.sin(t) / 3 + 2 * np.sin(5 * t)"
   ]
  },
  {
   "cell_type": "code",
   "execution_count": 9,
   "metadata": {},
   "outputs": [],
   "source": [
    "def next_batch(batch_size, n_steps, n_forecast):\n",
    "    t0 = np.random.rand(batch_size, 1) * (t_max - t_min - (n_steps + n_forecast) * resolution)\n",
    "    Ts = t0 + np.arange(0., n_steps + n_forecast) * resolution\n",
    "    ys = time_series(Ts)\n",
    "    return ys[:, :-n_forecast].reshape(-1, n_steps, 1), ys[:, n_steps:].reshape(-1, n_forecast, 1)"
   ]
  },
  {
   "cell_type": "code",
   "execution_count": 10,
   "metadata": {},
   "outputs": [],
   "source": [
    "x_train, y_train = next_batch(5, 7, 7)"
   ]
  },
  {
   "cell_type": "code",
   "execution_count": 11,
   "metadata": {},
   "outputs": [
    {
     "data": {
      "text/plain": [
       "array([[[ 4.23136807],\n",
       "        [ 3.44118738],\n",
       "        [ 2.42312896],\n",
       "        [ 1.41573779],\n",
       "        [ 0.64840642],\n",
       "        [ 0.28523898],\n",
       "        [ 0.3849716 ]],\n",
       "\n",
       "       [[ 8.51855977],\n",
       "        [ 7.74074636],\n",
       "        [ 6.64636831],\n",
       "        [ 5.46900628],\n",
       "        [ 4.44665465],\n",
       "        [ 3.76380801],\n",
       "        [ 3.50680796]],\n",
       "\n",
       "       [[ 8.80455928],\n",
       "        [ 8.58498212],\n",
       "        [ 7.86157263],\n",
       "        [ 6.79523265],\n",
       "        [ 5.61471676],\n",
       "        [ 4.56079654],\n",
       "        [ 3.82764649]],\n",
       "\n",
       "       [[ 3.08779624],\n",
       "        [ 2.49626238],\n",
       "        [ 1.91849931],\n",
       "        [ 1.58037837],\n",
       "        [ 1.64316202],\n",
       "        [ 2.1631258 ],\n",
       "        [ 3.07694256]],\n",
       "\n",
       "       [[-3.6510452 ],\n",
       "        [-3.91782237],\n",
       "        [-3.73950488],\n",
       "        [-3.27610337],\n",
       "        [-2.75248832],\n",
       "        [-2.40213712],\n",
       "        [-2.40882243]]])"
      ]
     },
     "execution_count": 11,
     "metadata": {},
     "output_type": "execute_result"
    }
   ],
   "source": [
    "x_train"
   ]
  },
  {
   "cell_type": "code",
   "execution_count": 12,
   "metadata": {},
   "outputs": [
    {
     "data": {
      "text/plain": [
       "array([[[ 0.88676264],\n",
       "        [ 1.62533127],\n",
       "        [ 2.37173683],\n",
       "        [ 2.88981262],\n",
       "        [ 2.99443452],\n",
       "        [ 2.59735448],\n",
       "        [ 1.72937302]],\n",
       "\n",
       "       [[ 3.64337884],\n",
       "        [ 4.03135755],\n",
       "        [ 4.45447289],\n",
       "        [ 4.67640593],\n",
       "        [ 4.49988539],\n",
       "        [ 3.81633805],\n",
       "        [ 2.63392522]],\n",
       "\n",
       "       [[ 3.5158004 ],\n",
       "        [ 3.60819262],\n",
       "        [ 3.97514489],\n",
       "        [ 4.40707095],\n",
       "        [ 4.66688335],\n",
       "        [ 4.54926149],\n",
       "        [ 3.93225882]],\n",
       "\n",
       "       [[ 4.21641705],\n",
       "        [ 5.34897242],\n",
       "        [ 6.23398419],\n",
       "        [ 6.68117701],\n",
       "        [ 6.59679307],\n",
       "        [ 6.00623436],\n",
       "        [ 5.04763979]],\n",
       "\n",
       "       [[-2.860531  ],\n",
       "        [-3.7269071 ],\n",
       "        [-4.86575459],\n",
       "        [-6.05701621],\n",
       "        [-7.05592055],\n",
       "        [-7.65229314],\n",
       "        [-7.72151797]]])"
      ]
     },
     "execution_count": 12,
     "metadata": {},
     "output_type": "execute_result"
    }
   ],
   "source": [
    "y_train"
   ]
  },
  {
   "cell_type": "markdown",
   "metadata": {},
   "source": [
    "Let's check if our ``next_batch`` function works properly:"
   ]
  },
  {
   "cell_type": "code",
   "execution_count": 13,
   "metadata": {},
   "outputs": [
    {
     "data": {
      "text/plain": [
       "(5, 7, 1)"
      ]
     },
     "execution_count": 13,
     "metadata": {},
     "output_type": "execute_result"
    }
   ],
   "source": [
    "y_train.shape"
   ]
  },
  {
   "cell_type": "code",
   "execution_count": 14,
   "metadata": {},
   "outputs": [
    {
     "data": {
      "text/plain": [
       "array([[ 0.88676264,  1.62533127,  2.37173683,  2.88981262,  2.99443452,\n",
       "         2.59735448,  1.72937302],\n",
       "       [ 3.64337884,  4.03135755,  4.45447289,  4.67640593,  4.49988539,\n",
       "         3.81633805,  2.63392522],\n",
       "       [ 3.5158004 ,  3.60819262,  3.97514489,  4.40707095,  4.66688335,\n",
       "         4.54926149,  3.93225882],\n",
       "       [ 4.21641705,  5.34897242,  6.23398419,  6.68117701,  6.59679307,\n",
       "         6.00623436,  5.04763979],\n",
       "       [-2.860531  , -3.7269071 , -4.86575459, -6.05701621, -7.05592055,\n",
       "        -7.65229314, -7.72151797]])"
      ]
     },
     "execution_count": 14,
     "metadata": {},
     "output_type": "execute_result"
    }
   ],
   "source": [
    "y_train.reshape(5, 7)"
   ]
  },
  {
   "cell_type": "code",
   "execution_count": 16,
   "metadata": {},
   "outputs": [
    {
     "data": {
      "image/png": "[encoded data removed]",
      "text/plain": [
       "<Figure size 1080x216 with 5 Axes>"
      ]
     },
     "metadata": {},
     "output_type": "display_data"
    }
   ],
   "source": [
    "fig, axes = plt.subplots(1, 5, figsize=(15, 3))\n",
    "\n",
    "zipped_data = zip(x_train, y_train)\n",
    "for ax, (x, y) in zip(axes, zipped_data):\n",
    "    ax.plot(np.arange(7), x, 'bo', label=\"input\")\n",
    "    ax.plot(np.arange(7, 14), y, 'r*', label=\"predicted\")\n",
    "axes[0].legend(loc=\"lower right\");"
   ]
  },
  {
   "cell_type": "code",
   "execution_count": 17,
   "metadata": {},
   "outputs": [],
   "source": [
    "t_min = 0\n",
    "t_max = 30\n",
    "resolution = 0.1"
   ]
  },
  {
   "cell_type": "code",
   "execution_count": 18,
   "metadata": {},
   "outputs": [],
   "source": [
    "n_steps = 7\n",
    "n_forecast = 7\n",
    "\n",
    "t = np.linspace(t_min, t_max, int((t_max - t_min) / resolution))\n",
    "t_batch = np.linspace(12.2, 12.2 + (n_steps + n_forecast) * resolution, n_steps + n_forecast)"
   ]
  },
  {
   "cell_type": "code",
   "execution_count": 19,
   "metadata": {},
   "outputs": [
    {
     "data": {
      "image/png": "[encoded data removed]",
      "text/plain": [
       "<Figure size 792x288 with 2 Axes>"
      ]
     },
     "metadata": {},
     "output_type": "display_data"
    }
   ],
   "source": [
    "plt.figure(figsize=(11, 4))\n",
    "\n",
    "plt.subplot(121)\n",
    "plt.plot(t, time_series(t), label=r\"$t\\cdot\\sin(t) / 3 + 2\\cdot\\sin(5t)$\")\n",
    "plt.plot(t_batch, time_series(t_batch), 'b-', linewidth=3, label=\"A training instance\")\n",
    "plt.axis([0, 30, -15, 10])\n",
    "plt.legend(loc=\"lower left\")\n",
    "\n",
    "plt.subplot(122)\n",
    "plt.plot(t_batch[:-n_forecast], time_series(t_batch[:-n_forecast]), \"bo\", markersize=10, label=\"instance\")\n",
    "plt.plot(t_batch[n_forecast:], time_series(t_batch[n_forecast:]), \"w*\", markersize=10, markeredgecolor=\"k\", label=\"target\")\n",
    "plt.legend(loc=\"upper left\");"
   ]
  },
  {
   "cell_type": "code",
   "execution_count": 20,
   "metadata": {},
   "outputs": [],
   "source": [
    "reset_graph()\n",
    "test_out = tf.Variable([1., 2., 3.], dtype=tf.float32)\n",
    "test_y = tf.Variable([1., 1., 1.], dtype=tf.float32)\n",
    "diff_sqrt = tf.square(test_out - test_y)\n",
    "mse = tf.reduce_mean(tf.square(test_out - test_y))\n",
    "init = tf.global_variables_initializer()"
   ]
  },
  {
   "cell_type": "code",
   "execution_count": 21,
   "metadata": {},
   "outputs": [
    {
     "name": "stdout",
     "output_type": "stream",
     "text": [
      "1.6666666 [0. 1. 4.]\n"
     ]
    }
   ],
   "source": [
    "with tf.Session() as sess:\n",
    "    init.run()\n",
    "    mse, diff_sqrt = sess.run([mse, diff_sqrt])\n",
    "    print(mse, diff_sqrt)"
   ]
  },
  {
   "cell_type": "code",
   "execution_count": 22,
   "metadata": {},
   "outputs": [],
   "source": [
    "n_steps = 7\n",
    "n_inputs = 1\n",
    "n_neurons = 200 # RNN cell neurons\n",
    "n_hidden = 100  # Dense layer neurons\n",
    "n_outputs = 7"
   ]
  },
  {
   "cell_type": "code",
   "execution_count": 23,
   "metadata": {},
   "outputs": [],
   "source": [
    "reset_graph()\n",
    "\n",
    "learning_rate = 0.001\n",
    "initializer = tf.contrib.layers.variance_scaling_initializer()\n",
    "\n",
    "X = tf.placeholder(dtype=tf.float32, shape=(None, n_steps, n_inputs), name=\"X\")\n",
    "y = tf.placeholder(dtype=tf.float32, shape=(None, n_outputs))   # batch_size * n_outputs\n",
    "\n",
    "lstm_cell = tf.nn.rnn_cell.LSTMCell(num_units=n_neurons, dtype=tf.float32)\n",
    "outputs, states = tf.nn.dynamic_rnn(lstm_cell, X, dtype=tf.float32)\n",
    "hidden = tf.layers.dense(states[1], n_hidden, activation=tf.nn.relu, kernel_initializer=initializer, name=\"hidden\")\n",
    "outputs = tf.layers.dense(hidden, n_outputs, kernel_initializer=initializer, name=\"output\")\n",
    "loss_mse = tf.losses.mean_squared_error(y, outputs)\n",
    "loss_rmse = tf.sqrt(loss_mse)\n",
    "optimizer = tf.train.AdamOptimizer(learning_rate=learning_rate, name=\"Adam\")\n",
    "training_op = optimizer.minimize(loss_rmse)\n",
    "\n",
    "saver = tf.train.Saver()\n",
    "\n",
    "init = tf.global_variables_initializer()"
   ]
  },
  {
   "cell_type": "code",
   "execution_count": 24,
   "metadata": {},
   "outputs": [
    {
     "name": "stdout",
     "output_type": "stream",
     "text": [
      "0: 4.492305755615234\n",
      "100: 2.443716287612915\n",
      "200: 1.007129430770874\n",
      "300: 0.52910315990448\n",
      "400: 0.3622724115848541\n",
      "500: 0.27315303683280945\n",
      "600: 0.46582210063934326\n",
      "700: 0.3002200126647949\n",
      "800: 0.324819415807724\n",
      "900: 0.15539419651031494\n"
     ]
    }
   ],
   "source": [
    "n_iterations = 1000\n",
    "batch_size = 50\n",
    "\n",
    "with tf.Session() as sess:\n",
    "    init.run()\n",
    "    for iteration in range(n_iterations):\n",
    "        X_batch, y_batch = next_batch(batch_size, n_steps, n_forecast)\n",
    "        y_batch = y_batch.reshape(batch_size, n_outputs)\n",
    "        sess.run(training_op, feed_dict={X: X_batch, y: y_batch})\n",
    "        if iteration % 100 == 0:\n",
    "            rmse = loss_rmse.eval(feed_dict={X: X_batch, y: y_batch})\n",
    "            print(\"{}: {}\".format(iteration, rmse))\n",
    "    save_path = saver.save(sess, \"../models/LSTM_multi_step/LSTM_multi_step.ckpt\")"
   ]
  },
  {
   "cell_type": "code",
   "execution_count": 25,
   "metadata": {},
   "outputs": [
    {
     "data": {
      "text/plain": [
       "array([[[-3.38903462],\n",
       "        [-2.97298724],\n",
       "        [-1.99295373],\n",
       "        [-0.61023065],\n",
       "        [ 0.903863  ],\n",
       "        [ 2.2434013 ],\n",
       "        [ 3.15300684]]])"
      ]
     },
     "execution_count": 25,
     "metadata": {},
     "output_type": "execute_result"
    }
   ],
   "source": [
    "X_new = time_series(np.array(t_batch[:-n_forecast].reshape(-1, n_steps, n_inputs)))\n",
    "X_new"
   ]
  },
  {
   "cell_type": "code",
   "execution_count": 75,
   "metadata": {},
   "outputs": [
    {
     "name": "stdout",
     "output_type": "stream",
     "text": [
      "INFO:tensorflow:Restoring parameters from ../models/LSTM_multi_step/LSTM_multi_step.ckpt\n"
     ]
    },
    {
     "data": {
      "text/plain": [
       "array([[ 3.3529313 ,  3.0685058 ,  2.2947142 ,  1.2868462 ,  0.44298047,\n",
       "        -0.14809625, -0.18389505]], dtype=float32)"
      ]
     },
     "execution_count": 75,
     "metadata": {},
     "output_type": "execute_result"
    }
   ],
   "source": [
    "with tf.Session() as sess:\n",
    "    saver.restore(sess, save_path)\n",
    "    predictions = outputs.eval(feed_dict={X: X_new})\n",
    "predictions"
   ]
  },
  {
   "cell_type": "code",
   "execution_count": 27,
   "metadata": {},
   "outputs": [
    {
     "data": {
      "image/png": "[encoded data removed]",
      "text/plain": [
       "<Figure size 432x288 with 1 Axes>"
      ]
     },
     "metadata": {},
     "output_type": "display_data"
    }
   ],
   "source": [
    "plt.plot(t_batch[:-n_forecast], time_series(t_batch[:-n_forecast]), \"bo\", markersize=10, label=\"instance\")\n",
    "plt.plot(t_batch[n_forecast:], time_series(t_batch[n_forecast:]), \"w*\", markersize=10, \n",
    "         markeredgecolor=\"k\", label=\"target\")\n",
    "plt.plot(t_batch[n_forecast:], predictions.reshape(-1), \"ro\", markersize=10, label=\"predicitons\")\n",
    "plt.legend(loc=\"upper left\");"
   ]
  },
  {
   "cell_type": "markdown",
   "metadata": {},
   "source": [
    "Split our timeseries into training and test sequences. The training sequence starts from 0. to 19. and the test sequence - from 20. to 30."
   ]
  },
  {
   "cell_type": "code",
   "execution_count": 28,
   "metadata": {},
   "outputs": [],
   "source": [
    "t_min = 0\n",
    "t_max = 19\n",
    "resolution = 0.1"
   ]
  },
  {
   "cell_type": "code",
   "execution_count": 62,
   "metadata": {},
   "outputs": [],
   "source": [
    "t_whole = np.linspace(t_min, 30, int((30 - t_min) / resolution))\n",
    "t_train = np.linspace(t_min, t_max, int((t_max - t_min) / resolution))\n",
    "t_test = np.linspace(t_max, 30, int((30 - t_max) / resolution))"
   ]
  },
  {
   "cell_type": "code",
   "execution_count": 40,
   "metadata": {},
   "outputs": [
    {
     "data": {
      "image/png": "[encoded data removed]",
      "text/plain": [
       "<Figure size 720x360 with 1 Axes>"
      ]
     },
     "metadata": {},
     "output_type": "display_data"
    }
   ],
   "source": [
    "plt.figure(figsize=(10, 5))\n",
    "\n",
    "plt.plot(t_whole, time_series(t_whole), \"b\", label=\"whole timeseries\")\n",
    "plt.plot(t_train, time_series(t_train), \"r--\", label=\"training data\")\n",
    "plt.plot([19., 19.], [-13, 12], \"k:\")\n",
    "plt.legend(loc=\"upper left\");"
   ]
  },
  {
   "cell_type": "code",
   "execution_count": 99,
   "metadata": {},
   "outputs": [],
   "source": [
    "def predict_future():\n",
    "    test_series = time_series(t_test)\n",
    "    train_series = time_series(t_train)\n",
    "    history = train_series\n",
    "    with tf.Session() as sess:\n",
    "        saver.restore(sess, save_path)\n",
    "        predictions = []\n",
    "        curr_step = 0\n",
    "        max_step = int((30 - t_max) / resoltion)  # maximum amount of steps we can do within our test series\n",
    "        while True:\n",
    "            if curr_step <= max_step:\n",
    "                X_new = history[-n_steps:].reshape(-1, n_steps, n_inputs)\n",
    "                week_prediction = outputs.eval(feed_dict={X: X_new})\n",
    "                predictions.append(week_prediction.reshape(-1))\n",
    "                history = np.append(history, test_series[curr_step:curr_step + n_steps])\n",
    "                curr_step += n_steps\n",
    "            else:\n",
    "                break\n",
    "    return predictions"
   ]
  },
  {
   "cell_type": "code",
   "execution_count": 100,
   "metadata": {},
   "outputs": [
    {
     "name": "stdout",
     "output_type": "stream",
     "text": [
      "INFO:tensorflow:Restoring parameters from ../models/LSTM_multi_step/LSTM_multi_step.ckpt\n"
     ]
    }
   ],
   "source": [
    "weekly_predicitons = predict_future()"
   ]
  },
  {
   "cell_type": "code",
   "execution_count": 101,
   "metadata": {},
   "outputs": [
    {
     "data": {
      "text/plain": [
       "[array([3.4007292, 4.049623 , 4.230162 , 3.9139795, 3.486035 , 2.9514034,\n",
       "        2.7449934], dtype=float32),\n",
       " array([3.1020243, 3.3764167, 4.0356517, 5.086654 , 6.2994885, 7.427556 ,\n",
       "        8.308058 ], dtype=float32),\n",
       " array([8.82029  , 8.552009 , 7.778397 , 6.5137997, 5.3648725, 4.1966476,\n",
       "        3.4818292], dtype=float32),\n",
       " array([3.392583 , 3.323295 , 3.627154 , 3.8820941, 4.005586 , 3.6288574,\n",
       "        2.9752367], dtype=float32),\n",
       " array([ 2.4630046 ,  0.96275735, -0.883299  , -2.5648067 , -3.9385557 ,\n",
       "        -4.9679523 , -5.4050593 ], dtype=float32),\n",
       " array([-4.8498116, -4.541587 , -4.261302 , -4.119578 , -4.4428725,\n",
       "        -5.1473255, -6.1489944], dtype=float32),\n",
       " array([ -7.3298225,  -8.600033 ,  -9.584354 , -10.103567 , -10.005782 ,\n",
       "         -9.339488 ,  -8.376163 ], dtype=float32),\n",
       " array([-6.931297 , -5.767847 , -5.0564127, -4.6216083, -4.6592546,\n",
       "        -4.9408813, -5.292677 ], dtype=float32),\n",
       " array([-5.422991  , -5.2514787 , -4.685398  , -3.50521   , -2.0165808 ,\n",
       "        -0.20329654,  1.5320841 ], dtype=float32),\n",
       " array([3.6071627, 4.6202435, 5.095477 , 5.0705543, 4.8718314, 4.44037  ,\n",
       "        4.3035626], dtype=float32),\n",
       " array([ 4.9085813,  5.589835 ,  6.66955  ,  7.9682465,  9.172427 ,\n",
       "        10.076682 , 10.567811 ], dtype=float32),\n",
       " array([10.608986 ,  9.90972  ,  9.00469  ,  7.711971 ,  6.784803 ,\n",
       "         5.7948422,  5.242706 ], dtype=float32),\n",
       " array([4.8946276, 4.8485074, 5.083047 , 5.004587 , 4.7320976, 4.064336 ,\n",
       "        2.9401436], dtype=float32),\n",
       " array([ 1.5687408 , -0.25904363, -2.1436648 , -3.698578  , -5.0049553 ,\n",
       "        -5.839266  , -6.1344934 ], dtype=float32),\n",
       " array([-5.774521, -5.638306, -5.674861, -5.901479, -6.658188, -7.629907,\n",
       "        -8.854568], dtype=float32),\n",
       " array([ -9.524356 , -10.771337 , -10.982394 , -11.1887865, -10.8575735,\n",
       "         -9.866029 ,  -8.910298 ], dtype=float32)]"
      ]
     },
     "execution_count": 101,
     "metadata": {},
     "output_type": "execute_result"
    }
   ],
   "source": [
    "weekly_predicitons"
   ]
  },
  {
   "cell_type": "code",
   "execution_count": 102,
   "metadata": {},
   "outputs": [
    {
     "data": {
      "text/plain": [
       "16"
      ]
     },
     "execution_count": 102,
     "metadata": {},
     "output_type": "execute_result"
    }
   ],
   "source": [
    "len(weekly_predicitons)"
   ]
  },
  {
   "cell_type": "markdown",
   "metadata": {},
   "source": [
    "16 weeks. But we can plot only 15 (110 (test steps) // 7 (n_steps) == 15). So we won't take the last predicted week into account."
   ]
  },
  {
   "cell_type": "code",
   "execution_count": 112,
   "metadata": {},
   "outputs": [],
   "source": [
    "def plot_predicition(weekly_predicitons):\n",
    "    plt.figure(figsize=(10, 5))\n",
    "\n",
    "    plt.plot(t_whole[-117:], time_series(t_whole[-117:]), \"b\", label=\"original\")\n",
    "    for week, predictions in enumerate(weekly_predicitons[:-1]):\n",
    "        label = \"predicted\" if week == 0 else None\n",
    "        plt.plot(t_whole[-117 + (week + 1) * n_steps:-110 + (week + 1) * n_steps], \n",
    "                 weekly_predicitons[week], \"r\", label=label)\n",
    "    plt.legend(loc=\"lower left\");"
   ]
  },
  {
   "cell_type": "code",
   "execution_count": 113,
   "metadata": {},
   "outputs": [
    {
     "data": {
      "image/png": "[encoded data removed]",
      "text/plain": [
       "<Figure size 720x360 with 1 Axes>"
      ]
     },
     "metadata": {},
     "output_type": "display_data"
    }
   ],
   "source": [
    "plot_predicition(weekly_predicitons)"
   ]
  },
  {
   "cell_type": "markdown",
   "metadata": {},
   "source": [
    "Perfect! But it's beacuse our model was trained by using all time series. Let's train a new one by using only our training set."
   ]
  },
  {
   "cell_type": "code",
   "execution_count": 111,
   "metadata": {},
   "outputs": [
    {
     "name": "stdout",
     "output_type": "stream",
     "text": [
      "0: 2.669581890106201\n",
      "100: 1.977329134941101\n",
      "200: 1.1098973751068115\n",
      "300: 0.6404978036880493\n",
      "400: 0.24335505068302155\n",
      "500: 0.2860408127307892\n",
      "600: 0.17113550007343292\n",
      "700: 0.17155320942401886\n",
      "800: 0.19543740153312683\n",
      "900: 0.1429608315229416\n"
     ]
    }
   ],
   "source": [
    "n_iterations = 1000\n",
    "batch_size = 50\n",
    "\n",
    "with tf.Session() as sess:\n",
    "    init.run()\n",
    "    for iteration in range(n_iterations):\n",
    "        X_batch, y_batch = next_batch(batch_size, n_steps, n_forecast)\n",
    "        y_batch = y_batch.reshape(batch_size, n_outputs)\n",
    "        sess.run(training_op, feed_dict={X: X_batch, y: y_batch})\n",
    "        if iteration % 100 == 0:\n",
    "            rmse = loss_rmse.eval(feed_dict={X: X_batch, y: y_batch})\n",
    "            print(\"{}: {}\".format(iteration, rmse))\n",
    "    save_path = saver.save(sess, \"../models/LSTM_multi_step_predict_future/LSTM_multi_step_predict_future.ckpt\")"
   ]
  },
  {
   "cell_type": "markdown",
   "metadata": {},
   "source": [
    "And now let's predict future values and plot again))"
   ]
  },
  {
   "cell_type": "code",
   "execution_count": 114,
   "metadata": {},
   "outputs": [
    {
     "name": "stdout",
     "output_type": "stream",
     "text": [
      "INFO:tensorflow:Restoring parameters from ../models/LSTM_multi_step_predict_future/LSTM_multi_step_predict_future.ckpt\n"
     ]
    },
    {
     "data": {
      "text/plain": [
       "[array([3.153332 , 4.1143575, 4.177999 , 3.9152787, 3.475773 , 2.948842 ,\n",
       "        2.8609068], dtype=float32),\n",
       " array([2.803865 , 3.2244203, 3.956201 , 4.8896303, 5.9636006, 6.961713 ,\n",
       "        7.7373857], dtype=float32),\n",
       " array([7.8344975, 7.9481497, 7.427819 , 6.7297096, 6.1303916, 5.12039  ,\n",
       "        5.0167823], dtype=float32),\n",
       " array([3.5094237, 3.830557 , 4.3927913, 5.0111823, 5.5483246, 5.800097 ,\n",
       "        5.6035433], dtype=float32),\n",
       " array([ 2.6008503 ,  1.1549742 , -0.37233362, -1.8768117 , -3.0475075 ,\n",
       "        -3.8051841 , -4.248053  ], dtype=float32),\n",
       " array([-4.531068 , -4.013886 , -3.3734055, -3.1299586, -3.213163 ,\n",
       "        -3.5022268, -4.3200836], dtype=float32),\n",
       " array([-6.8563366, -7.79455  , -8.199258 , -8.394504 , -7.9667373,\n",
       "        -7.3367667, -6.4554276], dtype=float32),\n",
       " array([-6.27792  , -5.323683 , -4.4304214, -4.0055985, -3.723159 ,\n",
       "        -4.062111 , -4.4325967], dtype=float32),\n",
       " array([-5.1012516 , -5.192554  , -5.0199904 , -4.4217978 , -3.202971  ,\n",
       "        -1.8550287 , -0.27468053], dtype=float32),\n",
       " array([3.0072167, 4.5069084, 4.639325 , 4.5731225, 4.2585945, 3.3915067,\n",
       "        3.7115653], dtype=float32),\n",
       " array([4.487892 , 5.1938643, 6.0906744, 6.9247437, 7.8419085, 8.354704 ,\n",
       "        8.904288 ], dtype=float32),\n",
       " array([8.712629, 9.448245, 9.585753, 9.193149, 9.669216, 9.130702,\n",
       "        9.641306], dtype=float32),\n",
       " array([4.9513345, 5.5827866, 6.441768 , 7.17955  , 7.903779 , 8.263332 ,\n",
       "        8.329775 ], dtype=float32),\n",
       " array([ 1.8298829 ,  0.20763667, -0.99194664, -2.2006075 , -2.8928561 ,\n",
       "        -3.2106562 , -3.4137378 ], dtype=float32),\n",
       " array([-5.336238 , -4.7298613, -4.043937 , -3.785377 , -4.0151105,\n",
       "        -4.3402624, -5.187393 ], dtype=float32),\n",
       " array([-8.68795  , -9.388738 , -9.474914 , -9.531331 , -9.0868225,\n",
       "        -8.827504 , -7.927838 ], dtype=float32)]"
      ]
     },
     "execution_count": 114,
     "metadata": {},
     "output_type": "execute_result"
    }
   ],
   "source": [
    "weekly_predicitons_new = predict_future()\n",
    "weekly_predicitons_new"
   ]
  },
  {
   "cell_type": "code",
   "execution_count": 115,
   "metadata": {},
   "outputs": [
    {
     "data": {
      "image/png": "[encoded data removed]",
      "text/plain": [
       "<Figure size 720x360 with 1 Axes>"
      ]
     },
     "metadata": {},
     "output_type": "display_data"
    }
   ],
   "source": [
    "plot_predicition(weekly_predicitons_new)"
   ]
  },
  {
   "cell_type": "markdown",
   "metadata": {},
   "source": [
    "Hmm... Not so accurate as the previous one. But still look quite \"good\" :)"
   ]
  },
  {
   "cell_type": "markdown",
   "metadata": {},
   "source": [
    "## Encoder-Decoder architecture"
   ]
  },
  {
   "cell_type": "code",
   "execution_count": null,
   "metadata": {},
   "outputs": [],
   "source": []
  }
 ],
 "metadata": {
  "celltoolbar": "Raw Cell Format",
  "kernelspec": {
   "display_name": "Python 3",
   "language": "python",
   "name": "python3"
  },
  "language_info": {
   "codemirror_mode": {
    "name": "ipython",
    "version": 3
   },
   "file_extension": ".py",
   "mimetype": "text/x-python",
   "name": "python",
   "nbconvert_exporter": "python",
   "pygments_lexer": "ipython3",
   "version": "3.6.5"
  }
 },
 "nbformat": 4,
 "nbformat_minor": 2
}
