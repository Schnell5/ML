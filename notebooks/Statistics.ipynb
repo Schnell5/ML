{
 "cells": [
  {
   "cell_type": "markdown",
   "metadata": {},
   "source": [
    "# 1. Введение"
   ]
  },
  {
   "cell_type": "markdown",
   "metadata": {},
   "source": [
    "## Свойства среднего"
   ]
  },
  {
   "cell_type": "markdown",
   "metadata": {},
   "source": [
    "- $M_{(x+c)}=M_x + c$\n",
    "- $M_{(x*c)}=M_x*c$\n",
    "- $\\sum\\limits_i(x_i - M_x)=0$"
   ]
  },
  {
   "cell_type": "markdown",
   "metadata": {},
   "source": [
    "### Дисперсия и стандартное отклонение"
   ]
  },
  {
   "cell_type": "markdown",
   "metadata": {},
   "source": [
    "Дисперсия и стандартно отклонение генеральной совокупности:\n",
    "\n",
    "- $D = \\dfrac{\\sum_i(x_i - M_x)^2}{n}$\n",
    "- $\\sigma = \\sqrt{D}$\n",
    "\n",
    "Дисперсия и стандратное отклонение выборки:\n",
    "\n",
    "- $D = \\dfrac{\\sum_i(x_i - \\overline{x})^2}{n - 1}$\n",
    "- $sd_x = \\sqrt{D}$"
   ]
  },
  {
   "cell_type": "markdown",
   "metadata": {},
   "source": [
    "### Свойства дисперсии"
   ]
  },
  {
   "cell_type": "markdown",
   "metadata": {},
   "source": [
    "- $D_{(x + c)} = D_x$\n",
    "- $sd_{(x+c)} = sd_x$\n",
    "- $D_{(x * c)} = D_x * c^2$\n",
    "- $sd_{(x*c)} = sd_x * c$"
   ]
  },
  {
   "cell_type": "markdown",
   "metadata": {},
   "source": [
    "## Box Plot"
   ]
  },
  {
   "cell_type": "code",
   "execution_count": 7,
   "metadata": {},
   "outputs": [],
   "source": [
    "import numpy as np\n",
    "import pandas as pd\n",
    "import matplotlib.pyplot as plt\n",
    "\n",
    "# fake up some data\n",
    "spread = np.random.rand(50) * 100\n",
    "center = np.ones(25) * 50\n",
    "flier_high = np.random.rand(10) * 100 + 100\n",
    "flier_low = np.random.rand(10) * -100\n",
    "data = np.concatenate((spread, center, flier_high, flier_low))"
   ]
  },
  {
   "cell_type": "code",
   "execution_count": 10,
   "metadata": {},
   "outputs": [],
   "source": [
    "s = pd.Series(data, name=\"Data\")"
   ]
  },
  {
   "cell_type": "code",
   "execution_count": 12,
   "metadata": {},
   "outputs": [
    {
     "data": {
      "text/plain": [
       "count     95.000000\n",
       "mean      50.015456\n",
       "std       53.573114\n",
       "min      -95.786890\n",
       "25%       24.088038\n",
       "50%       50.000000\n",
       "75%       74.741467\n",
       "max      195.501992\n",
       "Name: Data, dtype: float64"
      ]
     },
     "execution_count": 12,
     "metadata": {},
     "output_type": "execute_result"
    }
   ],
   "source": [
    "s.describe()"
   ]
  },
  {
   "cell_type": "code",
   "execution_count": 21,
   "metadata": {},
   "outputs": [
    {
     "data": {
      "text/plain": [
       "50.0"
      ]
     },
     "execution_count": 21,
     "metadata": {},
     "output_type": "execute_result"
    }
   ],
   "source": [
    "s.median()"
   ]
  },
  {
   "cell_type": "code",
   "execution_count": 37,
   "metadata": {},
   "outputs": [
    {
     "data": {
      "image/png": "[encoded data removed]",
      "text/plain": [
       "<Figure size 504x360 with 1 Axes>"
      ]
     },
     "metadata": {},
     "output_type": "display_data"
    }
   ],
   "source": [
    "plt.figure(figsize=(7, 5))\n",
    "red_sqares = dict(markerfacecolor='r', marker='s')\n",
    "plt.annotate(\"Median\", (1.1, s.median()-5))\n",
    "plt.annotate(\"25% percentile\", (1.1, 24.088038 - 5))\n",
    "plt.annotate(\"75% percentile\", (1.1, 74.741467 - 5))\n",
    "plt.boxplot(s, flierprops=red_sqares);"
   ]
  },
  {
   "cell_type": "markdown",
   "metadata": {},
   "source": [
    "## Нормальное распределение"
   ]
  },
  {
   "cell_type": "code",
   "execution_count": 55,
   "metadata": {},
   "outputs": [],
   "source": [
    "mean = 10\n",
    "sd = 1\n",
    "data = np.random.normal(mean, std, size=500)"
   ]
  },
  {
   "cell_type": "code",
   "execution_count": 88,
   "metadata": {},
   "outputs": [
    {
     "data": {
      "image/png": "[encoded data removed]",
      "text/plain": [
       "<Figure size 504x360 with 1 Axes>"
      ]
     },
     "metadata": {},
     "output_type": "display_data"
    }
   ],
   "source": [
    "plt.figure(figsize=(7, 5))\n",
    "plt.hist(data, bins=30, edgecolor='k')\n",
    "plt.plot([mean, mean], [0, 50], '--', label='mean')\n",
    "plt.plot([mean + std, mean + sd], [0, 50], 'r-', label=r\"$M + \\sigma$\")\n",
    "plt.annotate(r\"$M + \\sigma$\", (mean + sd + 0.2, 45), size=14)\n",
    "plt.plot([mean - std, mean - sd], [0, 50], 'r-', label=r\"$M - \\sigma$\")\n",
    "plt.annotate(r\"$M - \\sigma$\", (mean - sd - 0.8, 45), size=14);"
   ]
  },
  {
   "cell_type": "markdown",
   "metadata": {},
   "source": [
    "##  Стандартизация"
   ]
  },
  {
   "cell_type": "markdown",
   "metadata": {},
   "source": [
    "z-преобразование со средним = 0 и дисперсией = 1:\n",
    "\n",
    "$z_i = \\dfrac{x_i - \\overline{x}}{\\text{sd}_x}$"
   ]
  },
  {
   "cell_type": "markdown",
   "metadata": {},
   "source": [
    "Таблицы z-значений:\n",
    "\n",
    "http://www.stat.ufl.edu/~athienit/Tables/Ztable.pdf  (процент наблюдений, не превышающий указанное z-значение)\n",
    "\n",
    "http://www.normaltable.com/ztable-righttailed.html  (процент наблюдений, превышающий указанное z-значение)\n",
    "\n",
    "https://gallery.shinyapps.io/dist_calc/"
   ]
  },
  {
   "cell_type": "markdown",
   "metadata": {},
   "source": [
    "## Центральная предельная теорема"
   ]
  },
  {
   "cell_type": "markdown",
   "metadata": {},
   "source": [
    "Если из ГС брать выборки и замерять их средние, то они также образуют нормальное распределение со средним = среднему ГС. Отклонение выборки средних рассчитывается как стандартная ошибка среднего:\n",
    "\n",
    "$\\text{se} = \\dfrac{\\sigma}{\\sqrt{n}} = \\dfrac{\\text{sd}_x}{\\sqrt{n}}$\n",
    "\n",
    "где n - число примерок в выборке. Если n > 30, то при расчете se можно в числителе использовать стандартное отклонение самой выборки (вместо стандартного отклонения ГС)"
   ]
  },
  {
   "cell_type": "markdown",
   "metadata": {},
   "source": [
    "### Построение доверительного интервала"
   ]
  },
  {
   "cell_type": "markdown",
   "metadata": {},
   "source": [
    "Пусть дана выборка со следующими параметрами:\n",
    "\n",
    "- $\\overline{\\text{x}} = 100$\n",
    "- $\\text{sd} = 4$\n",
    "- $n = 100$\n",
    "\n",
    "Рассчитать 95% доверительный интервал для данного наблюдения"
   ]
  },
  {
   "cell_type": "markdown",
   "metadata": {},
   "source": [
    "Для наччала рассчитаем стандартную ошибку среднего для имеющейся выборки:\n",
    "\n",
    "$\\text{se} = \\dfrac{\\text{sd}}{\\sqrt{n}} = \\dfrac{4}{\\sqrt{64}} = 0.5$\n",
    "\n",
    "Правая граница 95% доверительного интервала = $ \\overline{\\text{x}} + 1.96\\text{se}$\n",
    "\n",
    "Левая граница 95% доверительного интервала = $ \\overline{\\text{x}} - 1.96\\text{se}$\n",
    "\n",
    "Итого, наш 95% доверительный интервал: [99.2, 100.98] - с вероятностью 95% среднее ГС входит в этот доверительный интервал"
   ]
  },
  {
   "cell_type": "markdown",
   "metadata": {},
   "source": [
    "## Статистическая проверка гипотез"
   ]
  },
  {
   "cell_type": "markdown",
   "metadata": {},
   "source": [
    "Допустим, что время, необходимое на выздоровление пациента от какой-либо болезкни в среднем = 20 дням\n",
    "\n",
    "$M = 20$\n",
    "\n",
    "Был разработан некий препарат, который был протестирован на 64 пациентов, случайно выбранных из общего числа всех пациентов. По результатам оказалось, что среднее время выздоровления этих пациентов снизилось до 18.5 дней. Стандартное отклонение составило 4.\n",
    "\n",
    "$n = 64$\n",
    "\n",
    "$\\text{sd} = 4$\n",
    "\n",
    "$\\overline{\\text{x}} = 18.5$\n",
    "\n",
    "Выяснить, действительно ли препарат мог повлиять на такое снижение срока выздоровления.\n",
    "\n",
    "Будет проверять 2 гипотезы - нулевая гипотеза заключается в том, что на самом деле препарат никак не повлиял на средний срок выздоровления и в генеральной совокупности пациентов, которые принимали новый препарат, он так и остался = 20.\n",
    "\n",
    "Противоположная гипотеза будет говорить о том, что средний срок выздоровления в генеральной совокупности пациентов, принимавших новый препарат не равен 20.\n",
    "\n",
    "$\\text{H}_0\\quad M_{нп} = 20$\n",
    "\n",
    "$\\text{H}_1\\quad M_{нп} \\ne 20$\n",
    "\n",
    "Начнем с проверки нулевой гипотезы. Согласно ЦПТ известно, что если бы мы многократно делали выборки пациентов, принимающих новый препарат, то выборочные средние образовали бы нормальное распределение со средним = среднему генеральной совокупности (т.е. в нашем случае 20) и стандартным отклонением = se.\n",
    "\n",
    "Нам нужно ответить на вопрос - на сколько сильно от среднего генеральной совокупности отклонилось среднее нашей выборки (которое равно 18.5) в единицах стандартного отклонения. Для этого необходимо сделать z-преобразование:\n",
    "\n",
    "Для начала рассчитаем стандартное отклоенние для выборки:\n",
    "\n",
    "$\\text{se} = \\dfrac{4}{\\sqrt{64}} = 0.5$\n",
    "\n",
    "$z = \\dfrac{\\overline{\\text{x}} - M_{нп}}{\\text{se}} = \\dfrac{18.5 - 20}{4} = -3$\n",
    "\n",
    "Результат означает, что если бы в генеральной совокупности среднее значение = 20, то наше выборочное среднее отклонилось бы на величину равную 3 стандартным отклонениям (3*se)\n",
    "\n",
    "__p-уровень значимости__\n",
    "\n",
    "Зная эту величину мы можем рассчитать вероятность такого или еще более сильного отклонения от среднего ГС. Для этого можно использовать z-таблицы или же онлайн-калькулятор. Нас интересуют отклоения в обе стороны (т.е. все, что меньше отрицательного отклонения, а также все, что больше положительного отклонения)\n",
    "\n",
    "Соглано рассчетам, вероятность отклоениня среднего больше чем на 3 стандратных отклоениня от среднего ГС = 0.0027\n",
    "\n",
    "**Чем меньше p-уровень значимости, тем больше оснований отклонить нулевую гипотезу. В общем случае, если p-уровень значимости меньше 0.005, то нулевая гипотеза может быть отклонена. В противном случае мы говорим о том, что у нас недостаточно оснований для отклонения нулевой гипотезы.**"
   ]
  },
  {
   "cell_type": "markdown",
   "metadata": {},
   "source": [
    "### Типы статистических ошибок"
   ]
  },
  {
   "cell_type": "markdown",
   "metadata": {},
   "source": [
    "**Ошбика первого рода:** мы отклоняем нулевую гипотезу, хотя на самом деле она была верна. Например, это могло случиться из-за того, что мы чисто случайно получили статистически значимый результат.\n",
    "\n",
    "**Ошибка второго рода:** мы не отклоняем нулевую гипотезу, хотя была верна альтернативная."
   ]
  },
  {
   "cell_type": "markdown",
   "metadata": {},
   "source": [
    "# 2. Сравнение средних"
   ]
  },
  {
   "cell_type": "markdown",
   "metadata": {},
   "source": [
    "# t-распределение Стьюдента"
   ]
  },
  {
   "cell_type": "markdown",
   "metadata": {},
   "source": [
    "Когда размер наших выборок из ГС невелик, то вполне возможна ситуация, что средние выборок будут сильно отклоняться от среднего ГС. Таким образом, мы не можем доверять z-критерию. Мы прибегаем к использованию t-распределения Стьюдента. Оно похоже на нормальное распределение, но \"хвосты\" распологаются выше, чем у нормального распределения. \"Хвосты\" располагаются тем выше, чем меньше степеней свободы (df). Таким образом, в \"хвостовых\" частях будет содержаться довольно большой процент наблюдений. "
   ]
  },
  {
   "cell_type": "markdown",
   "metadata": {},
   "source": [
    "## Критерий t-Стьюдента для сравнения двух выборок"
   ]
  },
  {
   "cell_type": "markdown",
   "metadata": {},
   "source": [
    "Пусть у нас имеется 2 выборки со своими значениями:\n",
    "\n",
    "| Выборка 1 | Выборка 2 |\n",
    "|----------|----------|\n",
    "|$\\bar{\\text{x}}_1$|$\\bar{\\text{x}}_2$|\n",
    "|$\\text{sd}_1$|$\\text{sd}_2$|\n",
    "|$n_1$|$n_2$|\n",
    "\n",
    "Мы хотим сравнить два выборочных средних значения.\n",
    "\n",
    "Будем проверять 2 гипотезы. О том, что в ГС эти средние равны и о том, что в ГС средние не равны.\n",
    "\n",
    "$\\text{H}_0\\quad M_{1} = M_{2}$\n",
    "\n",
    "$\\text{H}_1\\quad M_{1} \\ne M_{2}$\n",
    "\n",
    "Предположим, что верна нулевая гипотеза. Тогда, если бы мы многократно извлекали выборки и находили разности их средних (т.е. $\\bar{\\text{x}}_1 - \\bar{\\text{x}}_2)$, то эти значения распредилились бы нормально вокруг соответствуюшего среднего значения ГС, которое было бы равно $M_1 - M_2 = 0$\n",
    "\n",
    "Стандартное отклонение (стандартная ошибка) такого распределения рассчитывается по формуле:\n",
    "\n",
    "$\\text{se} = \\sqrt{\\dfrac{{\\text{sd}_1}^2}{n_1} + \\dfrac{{\\text{sd}_2}^2}{n_2}}$\n",
    "\n",
    "Полученное в результате распределение также будет соответствовать **t-распределению** с числом степеней свободы:\n",
    "\n",
    "$df = (n_1 - 1) + (n_2 - 1) = n_1 + n_2 - 2$\n",
    "\n",
    "Обладая всей вышеизложенной информацией мы можем рассчитать, на сколько именно наша разность между средними значениями выборок отклонилась от предполагаемого показателя генеральной совокупности. Тем самым мы можем рассчитать вероятность получить такие или еще более выраженные различия при условии, что на самом деле верна нулевая гипотеза.\n",
    "\n",
    "Итоговое значение t-критерия будет следующим:\n",
    "\n",
    "$t = \\dfrac{(\\bar{\\text{x}}_1 - \\bar{\\text{x}}_2) - (M_1 - M_2)}{\\sqrt{\\dfrac{{\\text{sd}_1}^2}{n_1} + \\dfrac{{\\text{sd}_2}^2}{n_2}}} = \\dfrac{\\bar{\\text{x}}_1 - \\bar{\\text{x}}_2}{\\sqrt{\\dfrac{{\\text{sd}_1}^2}{n_1} + \\dfrac{{\\text{sd}_2}^2}{n_2}}}$\n",
    "\n",
    "**Зная t и df мы можем рассчитать значение p-value**"
   ]
  },
  {
   "cell_type": "markdown",
   "metadata": {},
   "source": [
    "## Пример:"
   ]
  },
  {
   "cell_type": "markdown",
   "metadata": {},
   "source": [
    "Процесс денатурации ДНК представляет собой разрушение водородных связей между двумя цепями этой молекулы и очень сильно зависит от температуры, с которой мы воздействуем на молекулу.\n",
    "\n",
    "При сравнении двух видов в исследовании были получены следующие различия в средней температуре плавления ДНК:\n",
    "\n",
    "|вид/критерий| M | sd | n |\n",
    "|-|---|----|---|\n",
    "| Вид 1| 89.9 | 11.3 | 20 |\n",
    "| Вид 2| 80.7 | 11.7 | 20 |\n",
    "\n",
    "Нужно выяснить, являются ли эти различия статистически значимыми (т.е. действительно ли у видом разная температура плавления ДНК)\n",
    "\n",
    "Гипотеза 0 будет говорить нам о том, что на самом деле средняя температура плавления Вида 1 не отличается от температуры плавления Вида 2. А гипотеза 1 будет говорить о том, что температуры плавления различны.\n",
    "\n",
    "$\\text{H}_0\\quad M_{\\text{вид 1}} = M_{\\text{вид 2}}$\n",
    "\n",
    "$\\text{H}_1\\quad M_{\\text{вид 1}} \\ne M_{\\text{вид 2}}$\n",
    "\n",
    "Рассчитаем t-критерий:\n",
    "\n",
    "$t = \\dfrac{\\bar{\\text{x}}_1 - \\bar{\\text{x}}_2}{\\sqrt{\\dfrac{{\\text{sd}_1}^2}{n_1} + \\dfrac{{\\text{sd}_2}^2}{n_2}}}$\n",
    "\n",
    "И также число степеней свободы:\n",
    "\n",
    "$df = n_1 + n_2 - 2$"
   ]
  },
  {
   "cell_type": "code",
   "execution_count": 1,
   "metadata": {},
   "outputs": [],
   "source": [
    "import numpy as np"
   ]
  },
  {
   "cell_type": "code",
   "execution_count": 4,
   "metadata": {},
   "outputs": [
    {
     "name": "stdout",
     "output_type": "stream",
     "text": [
      "t-критерий: 2.529439633102561\n",
      "df:  38\n"
     ]
    }
   ],
   "source": [
    "M_1 = 89.9\n",
    "M_2 = 80.7\n",
    "sd_1 = 11.3\n",
    "sd_2 = 11.7\n",
    "n_1 = n_2 = 20\n",
    "\n",
    "t = (M_1 - M_2) / np.sqrt(np.square(sd_1) / n_1 + np.square(sd_2) / n_2)\n",
    "df = n_1 + n_2 - 2\n",
    "\n",
    "print(\"t-критерий:\", t)\n",
    "print(\"df: \", df)"
   ]
  },
  {
   "cell_type": "markdown",
   "metadata": {},
   "source": [
    "Используя эти значения можем рассчитать вероятность нашего отклонения. Вероятность такого отклонения составляет: 0.0157\n",
    "\n",
    "Таким образом, мы получили статистически значимый результат, который позволяет отвергнуть нулевую гипотезу. Значит, мы обнаружили, что температура плавления ДНК у вида 1 отличасется от температуры плавления ДНК вида 2."
   ]
  },
  {
   "cell_type": "markdown",
   "metadata": {},
   "source": [
    "Таблица для определения коэффициентов для доверительных интервалов:\n",
    "\n",
    "https://www.medcalc.org/manual/t-distribution.php"
   ]
  },
  {
   "cell_type": "markdown",
   "metadata": {},
   "source": [
    "## Проверка распределения на нормальность"
   ]
  },
  {
   "cell_type": "code",
   "execution_count": 24,
   "metadata": {},
   "outputs": [],
   "source": [
    "from scipy import stats"
   ]
  },
  {
   "cell_type": "code",
   "execution_count": 17,
   "metadata": {},
   "outputs": [],
   "source": [
    "m = 15\n",
    "sd = 5\n",
    "data = np.random.normal(loc=m, scale=sd, size=1000)"
   ]
  },
  {
   "cell_type": "code",
   "execution_count": 37,
   "metadata": {},
   "outputs": [
    {
     "data": {
      "image/png": "[encoded data removed]",
      "text/plain": [
       "<Figure size 432x288 with 1 Axes>"
      ]
     },
     "metadata": {},
     "output_type": "display_data"
    }
   ],
   "source": [
    "plt.hist(data, bins=20, ec='k', density=True)\n",
    "xticks = plt.xticks()[0]\n",
    "min_x, max_x = min(xticks), max(xticks)\n",
    "line = np.linspace(min_x, max_x, 1000)\n",
    "pdf_g = stats.norm.pdf(line, m, sd)\n",
    "plt.plot(line, pdf_g, '-', lw=3);"
   ]
  },
  {
   "cell_type": "code",
   "execution_count": 23,
   "metadata": {},
   "outputs": [
    {
     "data": {
      "text/plain": [
       "array([-5.,  0.,  5., 10., 15., 20., 25., 30., 35.])"
      ]
     },
     "execution_count": 23,
     "metadata": {},
     "output_type": "execute_result"
    }
   ],
   "source": [
    "xticks"
   ]
  },
  {
   "cell_type": "markdown",
   "metadata": {},
   "source": [
    "## QQ Plot"
   ]
  },
  {
   "cell_type": "code",
   "execution_count": 57,
   "metadata": {},
   "outputs": [
    {
     "data": {
      "image/png": "[encoded data removed]",
      "text/plain": [
       "<Figure size 432x288 with 1 Axes>"
      ]
     },
     "metadata": {},
     "output_type": "display_data"
    }
   ],
   "source": [
    "stats.probplot(data, dist=\"norm\", plot=plt);"
   ]
  },
  {
   "cell_type": "code",
   "execution_count": 66,
   "metadata": {},
   "outputs": [],
   "source": [
    "data_new = np.random.rand(1000) * data + 5"
   ]
  },
  {
   "cell_type": "code",
   "execution_count": 67,
   "metadata": {},
   "outputs": [
    {
     "data": {
      "image/png": "[encoded data removed]",
      "text/plain": [
       "<Figure size 432x288 with 1 Axes>"
      ]
     },
     "metadata": {},
     "output_type": "display_data"
    }
   ],
   "source": [
    "plt.hist(data_new, bins=20, ec='k', density=True)\n",
    "xticks = plt.xticks()[0]\n",
    "min_x, max_x = min(xticks), max(xticks)\n",
    "line = np.linspace(min_x, max_x, 1000)\n",
    "pdf_g = stats.norm.pdf(line, m, sd)\n",
    "plt.plot(line, pdf_g, '-', lw=3);"
   ]
  },
  {
   "cell_type": "code",
   "execution_count": 69,
   "metadata": {},
   "outputs": [
    {
     "data": {
      "image/png": "[encoded data removed]",
      "text/plain": [
       "<Figure size 432x288 with 1 Axes>"
      ]
     },
     "metadata": {},
     "output_type": "display_data"
    }
   ],
   "source": [
    "stats.probplot(data_new, dist=\"norm\", plot=plt);"
   ]
  },
  {
   "cell_type": "markdown",
   "metadata": {},
   "source": [
    "Если распределение признаков сильно отличается от нормального (например, имеются явные выбросы), то это может привести к неверным результатам при использовании t-критерия Стьюдента. В таком случае можно использовать непараметрический критерий - U-критерий Манна - Витни (Mann - Whitney U-test), который переводит все показания признака в ранговую шкалу (т.е. все показания ранжируются от первого до последнего наблюдения)"
   ]
  },
  {
   "cell_type": "markdown",
   "metadata": {},
   "source": [
    "# Однофакторный дисперсионный анализ (ANOVA)"
   ]
  },
  {
   "cell_type": "code",
   "execution_count": 1,
   "metadata": {},
   "outputs": [],
   "source": [
    "import pandas as pd\n",
    "import numpy as np"
   ]
  },
  {
   "cell_type": "markdown",
   "metadata": {},
   "source": [
    "Пусть имеется 3 выборки данных:"
   ]
  },
  {
   "cell_type": "code",
   "execution_count": 5,
   "metadata": {},
   "outputs": [
    {
     "data": {
      "text/html": [
       "<div>\n",
       "<style scoped>\n",
       "    .dataframe tbody tr th:only-of-type {\n",
       "        vertical-align: middle;\n",
       "    }\n",
       "\n",
       "    .dataframe tbody tr th {\n",
       "        vertical-align: top;\n",
       "    }\n",
       "\n",
       "    .dataframe thead th {\n",
       "        text-align: right;\n",
       "    }\n",
       "</style>\n",
       "<table border=\"1\" class=\"dataframe\">\n",
       "  <thead>\n",
       "    <tr style=\"text-align: right;\">\n",
       "      <th></th>\n",
       "      <th>1</th>\n",
       "      <th>2</th>\n",
       "      <th>3</th>\n",
       "    </tr>\n",
       "  </thead>\n",
       "  <tbody>\n",
       "    <tr>\n",
       "      <th>0</th>\n",
       "      <td>3</td>\n",
       "      <td>5</td>\n",
       "      <td>6</td>\n",
       "    </tr>\n",
       "    <tr>\n",
       "      <th>1</th>\n",
       "      <td>1</td>\n",
       "      <td>3</td>\n",
       "      <td>7</td>\n",
       "    </tr>\n",
       "    <tr>\n",
       "      <th>2</th>\n",
       "      <td>2</td>\n",
       "      <td>4</td>\n",
       "      <td>5</td>\n",
       "    </tr>\n",
       "  </tbody>\n",
       "</table>\n",
       "</div>"
      ],
      "text/plain": [
       "   1  2  3\n",
       "0  3  5  6\n",
       "1  1  3  7\n",
       "2  2  4  5"
      ]
     },
     "execution_count": 5,
     "metadata": {},
     "output_type": "execute_result"
    }
   ],
   "source": [
    "data = pd.DataFrame({1: [3, 1, 2], 2: [5, 3, 4], 3: [6, 7, 5]})\n",
    "data"
   ]
  },
  {
   "cell_type": "markdown",
   "metadata": {},
   "source": [
    "Мы хотим понять, взяты ли данные выборки (хотя бы одна из них) из разных генеральных совпокупностей. Или же все они относятся к одной ГС. Таким образом, будем проверять следующие гипотезы:\n",
    "\n",
    "$\\text{H}_0\\quad M_{1} = M_{2} = M_{3}$\n",
    "\n",
    "$\\text{H}_1\\quad M_{1} \\ne M_{2} \\ne M_{3}$"
   ]
  },
  {
   "cell_type": "markdown",
   "metadata": {},
   "source": [
    "Для начала рассчитаем среднее значение всех наблюдений:\n",
    "\n",
    "$\\overline{\\overline{X}} = \\dfrac{3 + 1 + 2 + 5 + 3 + 4 + 6 + 7 + 6}{9} = 4$"
   ]
  },
  {
   "cell_type": "code",
   "execution_count": 12,
   "metadata": {},
   "outputs": [
    {
     "data": {
      "text/plain": [
       "4.0"
      ]
     },
     "execution_count": 12,
     "metadata": {},
     "output_type": "execute_result"
    }
   ],
   "source": [
    "data.values.mean()"
   ]
  },
  {
   "cell_type": "markdown",
   "metadata": {},
   "source": [
    "Далее переходим к базовому понятию дисперсионного анализа - **общей сумме квадратов** (**SST**) (общая изменчивость наших данных). Данный показатель характеризует, на сколько высока изменчивость наших данных без учета разделения на группы.\n",
    "\n",
    "Для рассчета этого показателя необходимо рассчитать сумму квадратов отклонений от среднего значения для каждого из наблюдений.\n",
    "\n",
    "$\\text{SST} = (3 - 4)^2 + (1-4)^2+(2-4)^2+(5-4)^2+(3-4)^2+(4-4)^2+(6-4)^2+(7-4)^2+(5-4)^2 = 30$"
   ]
  },
  {
   "cell_type": "code",
   "execution_count": 24,
   "metadata": {},
   "outputs": [
    {
     "data": {
      "text/plain": [
       "30"
      ]
     },
     "execution_count": 24,
     "metadata": {},
     "output_type": "execute_result"
    }
   ],
   "source": [
    "((data - 4) ** 2).values.sum()"
   ]
  },
  {
   "cell_type": "markdown",
   "metadata": {},
   "source": [
    "Определим число степеней свободы для нашего набора данных. Это число независимых элементов в наборе данных. В нашем случае число элементов = 9, но только 8 из них будут являться независимыми (т.к. если бы мы знали значение общего среднего и SST, то, зная значения 8 элементов, мы бы могли узнать 9-ый элемент)\n",
    "\n",
    "$\\text{df} = N - 1 = 8$"
   ]
  },
  {
   "cell_type": "markdown",
   "metadata": {},
   "source": [
    "**Общая изменчивость наших данных (SST) может проистекать только из двух источников:**\n",
    "\n",
    "1. Сумма квадратов междугрупповая - **SSB**\n",
    "2. Сумма квадратов внутригрупповая - **SSW**"
   ]
  },
  {
   "cell_type": "markdown",
   "metadata": {},
   "source": [
    "Рассчитаем эти показатели для нашего набора данных. Для SSW нужно знать среднее значение внутри каждой группы (выборки).\n",
    "В нашем случае значения следующие:\n",
    "\n",
    "- $\\overline{x}_1 = 2$\n",
    "- $\\overline{x}_2 = 4$\n",
    "- $\\overline{x}_3 = 6$"
   ]
  },
  {
   "cell_type": "code",
   "execution_count": 26,
   "metadata": {},
   "outputs": [
    {
     "data": {
      "text/html": [
       "<div>\n",
       "<style scoped>\n",
       "    .dataframe tbody tr th:only-of-type {\n",
       "        vertical-align: middle;\n",
       "    }\n",
       "\n",
       "    .dataframe tbody tr th {\n",
       "        vertical-align: top;\n",
       "    }\n",
       "\n",
       "    .dataframe thead th {\n",
       "        text-align: right;\n",
       "    }\n",
       "</style>\n",
       "<table border=\"1\" class=\"dataframe\">\n",
       "  <thead>\n",
       "    <tr style=\"text-align: right;\">\n",
       "      <th></th>\n",
       "      <th>1</th>\n",
       "      <th>2</th>\n",
       "      <th>3</th>\n",
       "    </tr>\n",
       "  </thead>\n",
       "  <tbody>\n",
       "    <tr>\n",
       "      <th>0</th>\n",
       "      <td>3</td>\n",
       "      <td>5</td>\n",
       "      <td>6</td>\n",
       "    </tr>\n",
       "    <tr>\n",
       "      <th>1</th>\n",
       "      <td>1</td>\n",
       "      <td>3</td>\n",
       "      <td>7</td>\n",
       "    </tr>\n",
       "    <tr>\n",
       "      <th>2</th>\n",
       "      <td>2</td>\n",
       "      <td>4</td>\n",
       "      <td>5</td>\n",
       "    </tr>\n",
       "  </tbody>\n",
       "</table>\n",
       "</div>"
      ],
      "text/plain": [
       "   1  2  3\n",
       "0  3  5  6\n",
       "1  1  3  7\n",
       "2  2  4  5"
      ]
     },
     "execution_count": 26,
     "metadata": {},
     "output_type": "execute_result"
    }
   ],
   "source": [
    "data"
   ]
  },
  {
   "cell_type": "code",
   "execution_count": 25,
   "metadata": {},
   "outputs": [
    {
     "data": {
      "text/plain": [
       "1    2.0\n",
       "2    4.0\n",
       "3    6.0\n",
       "dtype: float64"
      ]
     },
     "execution_count": 25,
     "metadata": {},
     "output_type": "execute_result"
    }
   ],
   "source": [
    "data.mean(axis=0)"
   ]
  },
  {
   "cell_type": "markdown",
   "metadata": {},
   "source": [
    "SSW будет равно сумме квадратов разностей между значениями в каждой группе и соответствующими группам средним значениям.\n",
    "\n",
    "Т.е.:\n",
    "\n",
    "$\\text{SSW} = (3-2)^2+(1-2)^2+(2-2)^2+(5-4)^2+(3-4)^2+(4-4)^2+(6-6)^2+(7-6)^2+(5-6)^2 = 6$"
   ]
  },
  {
   "cell_type": "code",
   "execution_count": 31,
   "metadata": {},
   "outputs": [
    {
     "data": {
      "text/plain": [
       "6"
      ]
     },
     "execution_count": 31,
     "metadata": {},
     "output_type": "execute_result"
    }
   ],
   "source": [
    "((data - [2, 4, 6]) ** 2).values.sum()"
   ]
  },
  {
   "cell_type": "markdown",
   "metadata": {},
   "source": [
    "Число степеней свободы для данного показателя рассчитывается по формуле:\n",
    "    \n",
    "$\\text{df} = N - m$, \n",
    "\n",
    "где m - число групп\n",
    "\n",
    "В нашем случае **df = 6**\n",
    "\n",
    "Такая формула проистекает из того факта, что, если бы мы знали SSW и групповые средние, то нам было бы достаточно по 2 элемента из каждой из групп для того, чтобы найти их третьи элементы."
   ]
  },
  {
   "cell_type": "markdown",
   "metadata": {},
   "source": [
    "Для рассчета **SSB** необходимо рассчитать сумму произведений числа элементов в каждой группе на квадраты отклонений средних значений группы от общего среднего.\n",
    "\n",
    "Т.е.:\n",
    "\n",
    "$\\text{SSB} = 3(2-4)^2 + 3(4-4)^2 + 3(6-4)^2 = 24$"
   ]
  },
  {
   "cell_type": "code",
   "execution_count": 37,
   "metadata": {},
   "outputs": [
    {
     "data": {
      "text/plain": [
       "24.0"
      ]
     },
     "execution_count": 37,
     "metadata": {},
     "output_type": "execute_result"
    }
   ],
   "source": [
    "np.sum(data.notnull().sum(axis=0) * np.square(data.mean(axis=0) - 4))"
   ]
  },
  {
   "cell_type": "markdown",
   "metadata": {},
   "source": [
    "Число степеней свобод в данном случае будет рассчитываться по формуле:\n",
    "\n",
    "$\\text{df} = m - 1$\n",
    "\n",
    "В нашем случае **df = 2**\n",
    "\n",
    "Так как независимые переменные у нас - средние каждой из групп, то, зная общее среднее групп и всего 2 средних мы можем определить среднее значение третьей группы."
   ]
  },
  {
   "cell_type": "markdown",
   "metadata": {},
   "source": [
    "В результате вычисления значений SSW и SSB мы получили, что большая часть общей изменчивости достигается за счет межгрупповой изменчивости, что говорит о том, что группы сильно отличаются друг от друга.\n",
    "\n",
    "Если бы мы получили обратные результаты (т.е. если бы SSW вносило больший вклад), то мы бы говорили о том, что группы в целом не отличаются, а та общая изменчивость, что у нас есть, достигается за счет изменчивости внутри каждой из групп."
   ]
  },
  {
   "cell_type": "markdown",
   "metadata": {},
   "source": [
    "**Теперь мы можем рассчитать основной статистический показатель дисперсионного анализа - F-значение**"
   ]
  },
  {
   "cell_type": "markdown",
   "metadata": {},
   "source": [
    "$\\mathbf{F} = \\dfrac{\\dfrac{\\mathbf{SSB}}{m-1}}{\\dfrac{\\mathbf{SSW}}{N-m}}$"
   ]
  },
  {
   "cell_type": "markdown",
   "metadata": {},
   "source": [
    "В нашем случае **F-критерий** будет равен 12"
   ]
  },
  {
   "cell_type": "markdown",
   "metadata": {},
   "source": [
    "Если бы была верна наша нулевая гипотеза, то различия между группами были бы незначительными, т.е. числитель дроби стремился бы к 0. Таким образом, F-критерий принимал бы маленькое значение.\n",
    "\n",
    "F-распределение или **распределение Фишера** отличается от нормального и не имеет \"левого\" хвоста. Большинство F-значенией при верности нулевой гипотезы должны были бы быть очень маленькими, а мы получили 12.\n",
    "\n",
    "Рассчитаем вероятность получить такое или еще более высокое значение F.\n",
    "\n",
    "https://stattrek.com/online-calculator/f-distribution.aspx\n",
    "\n",
    "https://www.danielsoper.com/statcalc/calculator.aspx?id=7\n",
    "\n",
    "Получили результат - вероятность получить значение F = 12 или выше составляет всего **0.008**\n",
    "\n",
    "Следовательно, нашу нулевую гипотезу мы можем отклонить."
   ]
  },
  {
   "cell_type": "markdown",
   "metadata": {},
   "source": [
    "## Множественные сравнения в ANOVA"
   ]
  },
  {
   "cell_type": "markdown",
   "metadata": {},
   "source": [
    "Сравнивая попарно между собой множество групп возрастает вероятность получить статистически значимые результаты (даже в случае, если их на самом деле нет). Чтобы избежать этого необходимо соответстсующим образом изменять критерий, согласно которому мы и определяем, является ли результат статистически значимым или нет.\n",
    "\n",
    "Одним из таких способов является поправка Бонферрони. Согласно ей предлагается уменьшать значение показателя p-уровня значимости пропорционально числу используемых групп. Т.е. если показатель = 0.05, а попарные сравнения производятся среди 28 групп, то необходимо снизить этот показатель, назначив ему новое значение = 0.05/28.\n",
    "\n",
    "**Однако следует учитывать, что поправка Бонферрони может приводить к тому, что может быть отсеено действительно существующее статистически значимое различие.**\n",
    "\n",
    "Другим способом решения существующей проблемы является применение критерия Тьюки (Tukey HSD)"
   ]
  },
  {
   "cell_type": "markdown",
   "metadata": {},
   "source": [
    "# Многофакторный ANOVA"
   ]
  }
 ],
 "metadata": {
  "kernelspec": {
   "display_name": "Python 3",
   "language": "python",
   "name": "python3"
  },
  "language_info": {
   "codemirror_mode": {
    "name": "ipython",
    "version": 3
   },
   "file_extension": ".py",
   "mimetype": "text/x-python",
   "name": "python",
   "nbconvert_exporter": "python",
   "pygments_lexer": "ipython3",
   "version": "3.7.0"
  }
 },
 "nbformat": 4,
 "nbformat_minor": 2
}
